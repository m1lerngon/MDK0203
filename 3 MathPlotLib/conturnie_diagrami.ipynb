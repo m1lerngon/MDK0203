{
  "metadata": {
    "kernelspec": {
      "name": "python",
      "display_name": "Python (Pyodide)",
      "language": "python"
    },
    "language_info": {
      "name": ""
    }
  },
  "nbformat_minor": 4,
  "nbformat": 4,
  "cells": [
    {
      "cell_type": "markdown",
      "source": "Создать график функции sinc в декартовой системе координат на плоскости.",
      "metadata": {}
    },
    {
      "cell_type": "code",
      "source": "import numpy as np\nimport matplotlib.pyplot as plt\nfrom mpl_toolkits.mplot3d import Axes3D\nimport matplotlib.cm as cm\n\nx, y = np.linspace(-10,10,400), np.linspace(-10,10,400)\nX, Y = np.meshgrid(x, y)\n\nf = np.sinc(np.hypot(X, Y))\n\nfig = plt.figure()\nax = fig.add_subplot(111, projection='3d')\nax.plot_surface(X, Y, f, rstride=5, cstride=5, cmap=cm.summer)\nplt.show()",
      "metadata": {
        "trusted": true
      },
      "outputs": [],
      "execution_count": null
    },
    {
      "cell_type": "markdown",
      "source": "Данные в файле с разделенными запятыми значениями birthday-data.csv, сообщают околичестве новорожденных, зарегистрированных ",
      "metadata": {}
    },
    {
      "cell_type": "code",
      "source": "import numpy as np\nimport matplotlib.pyplot as plt\n\n# Read in the relevant data from our input file\ndt = np.dtype([('month', np.int32), ('day', np.int32), ('n', np.float32)])\ndata = np.genfromtxt('birthday-data.csv',dtype=dt, delimiter=',', skip_header=1)\n\ntotal = np.sum(data['n'])\n\n# In our heatmap, nan will mean \"no such date\", e.g. 31 June\nheatmap = np.empty((12, 31))\nheatmap[:] = np.nan\n\n# Maximum number of days per month\nmdpm = np.array([31,29,31,30,31,30,31,31,30,31,30,31])\nfor month, day, n in data:\n    # NumPy arrays are zero-indexed; days and months are not!\n    imonth, iday = month-1, day-1\n    if day > mdpm[imonth]:\n        continue\n    heatmap[imonth, iday] = n / total\nheatmap[1,28] *= 4\n\n# Plot the heatmap, customize and label the ticks\nfig = plt.figure()\nax = fig.add_subplot(111)\nim = ax.imshow(heatmap, interpolation='nearest')\nax.set_yticks(range(12))\nax.set_yticklabels(['Jan', 'Feb', 'Mar', 'Apr', 'May', 'Jun',\n                    'Jul', 'Aug', 'Sep', 'Oct', 'Nov', 'Dec'])\ndays = np.array(range(0, 31, 2))\nax.set_xticks(days)\nax.set_xticklabels(['{:d}'.format(day+1) for day in days])\nax.set_xlabel('Day of month')\n\n# Add a colour bar along the bottom and label it\ncbar = fig.colorbar(ax=ax, mappable=im, orientation='horizontal')\ncbar.set_label('Birthday Probability')\n\nplt.show()",
      "metadata": {
        "trusted": true
      },
      "outputs": [],
      "execution_count": null
    },
    {
      "cell_type": "code",
      "source": "",
      "metadata": {
        "trusted": true
      },
      "outputs": [],
      "execution_count": null
    }
  ]
}