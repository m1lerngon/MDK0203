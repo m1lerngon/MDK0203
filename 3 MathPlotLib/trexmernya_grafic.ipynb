{
  "metadata": {
    "kernelspec": {
      "name": "python",
      "display_name": "Python (Pyodide)",
      "language": "python"
    },
    "language_info": {
      "name": ""
    }
  },
  "nbformat_minor": 4,
  "nbformat": 4,
  "cells": [
    {
      "cell_type": "code",
      "source": "import matplotlib.pyplot as plt\nfrom mpl_toolkits.mplot3d import Axes3D\nfig = plt.figure()\nax = fig.add_subplot(projection='3d')",
      "metadata": {
        "trusted": true
      },
      "outputs": [],
      "execution_count": null
    },
    {
      "cell_type": "code",
      "source": "import numpy as np\nimport matplotlib.pyplot as plt\nfrom mpl_toolkits.mplot3d import Axes3D\nimport matplotlib.cm as cm\n\nL, n = 2, 400\nx = np.linspace(-L, L, n)\ny = x.copy()\nX, Y = np.meshgrid(x, y)\nZ = np.exp(-(X**2 + Y**2))\n\nfig, ax = plt.subplots(nrows=2, ncols=2, subplot_kw={'projection': '3d'})\nax[0,0].plot_wireframe(X, Y, Z, rstride=40, cstride=40)\nax[0,1].plot_surface(X, Y, Z, rstride=40, cstride=40, color='m')\nax[1,0].plot_surface(X, Y, Z, rstride=12, cstride=12, color='m')\nax[1,1].plot_surface(X, Y, Z, rstride=20, cstride=20, cmap=cm.hot)\nfor axes in ax.flatten():\n    axes.set_xticks([-2, -1, 0, 1, 2])\n    axes.set_yticks([-2, -1, 0, 1, 2])\n    axes.set_zticks([0, 0.5, 1])\nfig.tight_layout()\nplt.savefig('Simple surface plots.png',dpi=500)\nplt.show()",
      "metadata": {
        "trusted": true
      },
      "outputs": [],
      "execution_count": null
    },
    {
      "cell_type": "code",
      "source": "import numpy as np\nimport matplotlib.pyplot as plt\nfrom mpl_toolkits.mplot3d import Axes3D\n\nn = 100\n\ntheta = np.linspace(0, 2.*np.pi, n)\nphi = np.linspace(0, 2.*np.pi, n)\ntheta, phi = np.meshgrid(theta, phi)\nc, a = 2, 1\nx = (c + a*np.cos(theta)) * np.cos(phi)\ny = (c + a*np.cos(theta)) * np.sin(phi)\nz = a * np.sin(theta)\n\nfig = plt.figure()\nax1 = fig.add_subplot(121, projection='3d')\nax1.set_zlim(-3,3)\nax1.plot_surface(x, y, z, rstride=5, cstride=5, color='k', edgecolors='w')\nax1.view_init(36, 26)\nax2 = fig.add_subplot(122, projection='3d')\nax2.set_zlim(-3,3)\nax2.plot_surface(x, y, z, rstride=5, cstride=5, color='k', edgecolors='w')\nax2.view_init(0, 0)\nax2.set_xticks([])\nplt.savefig('A torus.png',dpi=500)\nplt.show()",
      "metadata": {
        "trusted": true
      },
      "outputs": [],
      "execution_count": null
    },
    {
      "cell_type": "code",
      "source": "import numpy as np\nimport matplotlib.pyplot as plt\nfrom mpl_toolkits.mplot3d import Axes3D\n\nn = 1000\nfig = plt.figure()\nax = fig.add_subplot(111, projection='3d')\n\n# Plot a helix along the x-axis\ntheta_max = 8 * np.pi\ntheta = np.linspace(0, theta_max, n)\nx = theta\nz =  np.sin(theta)\ny =  np.cos(theta)\nax.plot(x, y, z, 'b', lw=2)\n\n# An line through the centre of the helix\nax.plot((-theta_max*0.2, theta_max * 1.2), (0,0), (0,0), color='k', lw=2)\n# sin/cos components of the helix (e.g. electric and magnetic field\n# components of a circularly-polarized electromagnetic wave\nax.plot(x, y, 0, color='r', lw=1, alpha=0.5)\nax.plot(x, [0]*n, z, color='m', lw=1, alpha=0.5)\n\n# Remove axis planes, ticks and labels\nax.set_axis_off()\nplt.savefig('Depicting a helix.png',dpi=500)\nplt.show()",
      "metadata": {
        "trusted": true
      },
      "outputs": [],
      "execution_count": null
    },
    {
      "cell_type": "code",
      "source": "%matplotlib notebook\nimport numpy as np\nimport matplotlib.pyplot as plt\nimport matplotlib.animation as animation\n# Time step for the animation (s), max time to animate for (s).\ndt, tmax = 0.01, 5\n# Signal frequency (s-1), decay constant (s-1).\nf, alpha = 2.5, 1\n# These lists will hold the data to plot.\nt, M = [], []\n# Draw an empty plot, but preset the plot x- and y-limits.\nfig, ax = plt.subplots()\nline, = ax.plot([], [])\nax.set_xlim(0, tmax)\nax.set_ylim(-1, 1)\nax.set_xlabel('t /s')\nax.set_ylabel('M (arb. units)')\n\ndef animate(i):\n    \"\"\"Draw the frame i of the animation.\"\"\"\n\n    global t, M\n    # Append this time point and its data and set the plotted line data.\n    _t = i*dt\n    t.append(_t)\n    M.append(np.sin(2*np.pi*f*_t) * np.exp(-alpha*_t))\n    line.set_data(t, M)\n\n# Interval between frames in ms, total number of frames to use.\ninterval, nframes = 1000 * dt, int(tmax / dt)\n# Animate once (set repeat=False so the animation doesn't loop).\nani = animation.FuncAnimation(fig, animate, frames=nframes, repeat=False,\n                              interval=interval)\n\nplt.show()",
      "metadata": {
        "trusted": true
      },
      "outputs": [],
      "execution_count": null
    },
    {
      "cell_type": "code",
      "source": "%matplotlib notebook\nimport numpy as np\nimport matplotlib.pyplot as plt\nimport matplotlib.animation as animation\n\n# Time step for the animation (s), max time to animate for (s).\ndt, tmax = 0.01, 5\n# Signal frequency (s-1), decay constant (s-1).\nf, alpha = 2.5, 1\n# These lists will hold the data to plot.\nt, M = [], []\n\n# Draw an empty plot, but preset the plot x- and y-limits.\nfig, ax = plt.subplots()\nline, = ax.plot([], [])\nax.set_xlim(0, tmax)\nax.set_ylim(-1, 1)\nax.set_xlabel('t /s')\nax.set_ylabel('M (arb. units)')\n\ndef init():\n    return line,\n\ndef animate(i, t, M):\n    \"\"\"Draw the frame i of the animation.\"\"\"\n\n    # Append this time point and its data and set the plotted line data.\n    _t = i*dt\n    t.append(_t)\n    M.append(np.sin(2*np.pi*f*_t) * np.exp(-alpha*_t))\n    line.set_data(t, M)\n    return line,\n\n# Interval between frames in ms, total number of frames to use.\ninterval, nframes = 1000 * dt, int(tmax / dt)\n# Animate once (set repeat=False so the animation doesn't loop).\nani = animation.FuncAnimation(fig, animate, frames=nframes, init_func=init,\n                  fargs=(t, M), repeat=False, interval=interval, blit=True)\nplt.show()",
      "metadata": {
        "trusted": true
      },
      "outputs": [],
      "execution_count": null
    },
    {
      "cell_type": "code",
      "source": "%matplotlib notebook\nimport matplotlib.pyplot as plt\nimport matplotlib.animation as animation\n\n# Acceleration due to gravity, m.s-2.\ng = 9.81\n# The maximum x-range of ball's trajectory to plot.\nXMAX = 5\n# The coefficient of restitution for bounces (-v_up/v_down).\ncor = 0.65\n# The time step for the animation.\ndt = 0.005\n\n# Initial position and velocity vectors.\nx0, y0 = 0, 4\nvx0, vy0 = 1, 0\n\ndef get_pos(t=0):\n    \"\"\"A generator yielding the ball's position at time t.\"\"\"\n    x, y, vx, vy = x0, y0, vx0, vy0\n    while x < XMAX:\n        t += dt\n        x += vx0 * dt\n        y += vy * dt\n        vy -= g * dt\n        if y < 0:\n            # bounce!\n            y = 0\n            vy = -vy * cor \n        yield x, y\n\ndef init():\n    \"\"\"Initialize the animation figure.\"\"\"\n    ax.set_xlim(0, XMAX)\n    ax.set_ylim(0, y0)\n    ax.set_xlabel('$x$ /m')\n    ax.set_ylabel('$y$ /m')\n    line.set_data(xdata, ydata)\n    ball.set_center((x0, y0))\n    height_text.set_text(f'Height: {y0:.1f} m')\n    return line, ball, height_text\n\ndef animate(pos):\n    \"\"\"For each frame, advance the animation to the new position, pos.\"\"\"\n    x, y = pos\n    xdata.append(x)\n    ydata.append(y)\n    line.set_data(xdata, ydata)\n    ball.set_center((x, y))\n    height_text.set_text(f'Height: {y:.1f} m')\n    return line, ball, height_text\n\n# Set up a new Figure, with equal aspect ratio so the ball appears round.\nfig, ax = plt.subplots()\nax.set_aspect('equal')\n\n# These are the objects we need to keep track of.\nline, = ax.plot([], [], lw=2)\nball = plt.Circle((x0, y0), 0.08)\nheight_text = ax.text(XMAX*0.5, y0*0.8, f'Height: {y0:.1f} m')\nax.add_patch(ball)\nxdata, ydata = [], []\n\ninterval = 1000*dt\nani = animation.FuncAnimation(fig, animate, get_pos, blit=True,\n                      interval=interval, repeat=False, init_func=init)\nplt.show()",
      "metadata": {
        "trusted": true
      },
      "outputs": [],
      "execution_count": null
    },
    {
      "cell_type": "code",
      "source": "",
      "metadata": {
        "trusted": true
      },
      "outputs": [],
      "execution_count": null
    }
  ]
}