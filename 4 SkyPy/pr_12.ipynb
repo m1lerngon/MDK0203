{
  "metadata": {
    "kernelspec": {
      "name": "python",
      "display_name": "Python (Pyodide)",
      "language": "python"
    },
    "language_info": {
      "name": ""
    }
  },
  "nbformat_minor": 4,
  "nbformat": 4,
  "cells": [
    {
      "cell_type": "code",
      "source": "import numpy as np\r\nfrom scipy.integrate import solve_ivp\r\nimport matplotlib.pyplot as plt\r\n\r\n# Определение правой части ОДУ для cos(x)\r\ndef cos_derivative(t, y):\r\n    return [-np.sin(t)]\r\n\r\n# Диапазон времени (или x)\r\nt_span = (0, 10)\r\n# Начальное значение\r\ny0 = [1]  # Начальное значение cos(x) в t=0\r\n\r\n# Решение ОДУ\r\nsol_cos = solve_ivp(cos_derivative, t_span, y0, t_eval=np.linspace(*t_span, 100))\r\n\r\n# Построение графика решения\r\nplt.plot(sol_cos.t, sol_cos.y[0], label='cos(x)')\r\nplt.xlabel('t'\r\nplt.ylabel('cos(x)')\r\nplt.legend()\r\nplt.show()",
      "metadata": {
        "trusted": true
      },
      "outputs": [],
      "execution_count": null
    },
    {
      "cell_type": "code",
      "source": "import numpy as np\nfrom scipy.integrate import solve_ivp\nimport matplotlib.pyplot as plt\n\n# Определение правой части ОДУ для sin(x)\ndef sin_derivative(t, y):\n    return [np.cos(t)]\n\n# Диапазон времени (или x)\nt_span = (0, 10)\n# Начальное значение\ny0 = [0]  # Начальное значение sin(x) в t=0\n\n# Решение ОДУ\nsol_sin = solve_ivp(sin_derivative, t_span, y0, t_eval=np.linspace(*t_span, 100))\n\n# Построение графика решения\nplt.plot(sol_sin.t, sol_sin.y[0], label='sin(x)')\nplt.xlabel('t')\nplt.ylabel('sin(x)')\nplt.legend()\nplt.show()",
      "metadata": {
        "trusted": true
      },
      "outputs": [],
      "execution_count": null
    },
    {
      "cell_type": "code",
      "source": "import numpy as np\nfrom scipy.integrate import solve_ivp\nimport matplotlib.pyplot as plt\n\n# Определение правой части системы ОДУ\ndef tan_derivative(t, y):\n    return [1 + y[0]**2]\n\n# Диапазон времени (или x)\nt_span = (0, 10)\n# Начальное значение\ny0 = [0]  # Начальное значение tan(x) в t=0\n\n# Решение системы ОДУ\nsol_tan = solve_ivp(tan_derivative, t_span, y0, t_eval=np.linspace(*t_span, 100))\n\n# Построение графика решения\nplt.plot(sol_tan.t, np.tan(sol_tan.y[0]), label='tan(x)')\nplt.xlabel('t')\nplt.ylabel('tan(x)')\nplt.legend()\nplt.ylim(-10, 10)  # Устанавливаем ограничение на масштаб для наглядности\nplt.show()",
      "metadata": {
        "trusted": true
      },
      "outputs": [],
      "execution_count": null
    },
    {
      "cell_type": "code",
      "source": "import numpy as np\nfrom scipy.integrate import solve_ivp\nimport matplotlib.pyplot as plt\n\n# Определение правой части системы ОДУ\ndef cot_derivative(t, y):\n    return [-1 - y[0]**2]\n\n# Диапазон времени (или x)\nt_span = (0, 10)\n# Начальное значение\ny0 = [0]  # Начальное значение cot(x) в t=0\n\n# Решение системы ОДУ\nsol_cot = solve_ivp(cot_derivative, t_span, y0, t_eval=np.linspace(*t_span, 100))\n\n# Обработка деления на ноль и отфильтровывание бесконечных значений\ncot_values = np.where(np.abs(sol_cot.y[0]) < 1e3, 1/np.tan(sol_cot.y[0]), np.nan)\n\n# Построение графика решения\nplt.plot(sol_cot.t, cot_values, label='cot(x)')\nplt.xlabel('t')\nplt.ylabel('cot(x)')\nplt.legend()\nplt.ylim(-10, 10)  # Устанавливаем ограничение на масштаб для наглядности\nplt.show()",
      "metadata": {
        "trusted": true
      },
      "outputs": [],
      "execution_count": null
    },
    {
      "cell_type": "code",
      "source": "",
      "metadata": {
        "trusted": true
      },
      "outputs": [],
      "execution_count": null
    }
  ]
}