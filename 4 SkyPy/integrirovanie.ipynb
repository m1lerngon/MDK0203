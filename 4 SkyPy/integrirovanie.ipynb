{
  "metadata": {
    "kernelspec": {
      "name": "python",
      "display_name": "Python (Pyodide)",
      "language": "python"
    },
    "language_info": {
      "name": ""
    }
  },
  "nbformat_minor": 4,
  "nbformat": 4,
  "cells": [
    {
      "cell_type": "markdown",
      "source": "1 Использовать метод ```scipy.integrate.quad``` для вычисления следующего интеграла ",
      "metadata": {}
    },
    {
      "cell_type": "code",
      "source": "import numpy as np\nfrom scipy.integrate import quad\nf1 = lambda x: x**4 * (1 - x)**4/(1 + x**2)\nquad(f1, 0, 1)",
      "metadata": {
        "trusted": true
      },
      "outputs": [],
      "execution_count": null
    },
    {
      "cell_type": "markdown",
      "source": "2 Использовать метод scipy.integrate.quad для вычисления следующих определенных интегралов (большинство из них можно также представить в конечной форме в заданном интервале, но это затруднительно).\n",
      "metadata": {}
    },
    {
      "cell_type": "markdown",
      "source": "а)",
      "metadata": {}
    },
    {
      "cell_type": "code",
      "source": "22/7 - np.pi",
      "metadata": {
        "trusted": true
      },
      "outputs": [],
      "execution_count": null
    },
    {
      "cell_type": "markdown",
      "source": "б) Этот интеграл применяется в теории (модели) Дебая, описывающей теплоемкость кристаллических веществ при низких температурах:",
      "metadata": {}
    },
    {
      "cell_type": "code",
      "source": "f2 = lambda x: x**3/(np.exp(x) - 1)\nquad(f2, 0, np.inf)",
      "metadata": {
        "trusted": true
      },
      "outputs": [],
      "execution_count": null
    },
    {
      "cell_type": "markdown",
      "source": "в) Интеграл, который иногда называют мечтой второкурсника:",
      "metadata": {}
    },
    {
      "cell_type": "code",
      "source": "np.pi**4 / 15",
      "metadata": {
        "trusted": true
      },
      "outputs": [],
      "execution_count": null
    },
    {
      "cell_type": "markdown",
      "source": "г)",
      "metadata": {}
    },
    {
      "cell_type": "code",
      "source": "f3 = lambda x: x**-x\nquad(f3, 0, 1)",
      "metadata": {
        "trusted": true
      },
      "outputs": [],
      "execution_count": null
    },
    {
      "cell_type": "markdown",
      "source": "д)",
      "metadata": {}
    },
    {
      "cell_type": "code",
      "source": "from scipy.special import i0\nz = np.linspace(0,2,100)\ny1 = i0(z)\nf5 = lambda theta, z: np.exp(z*np.cos(theta))\ny2 = np.array([quad(f5, 0, 2*np.pi, args=(zz,))[0] for zz in z])\ny2 /= 2 * np.pi\nnp.max(abs(y2-y1))",
      "metadata": {
        "trusted": true
      },
      "outputs": [],
      "execution_count": null
    },
    {
      "cell_type": "code",
      "source": "",
      "metadata": {
        "trusted": true
      },
      "outputs": [],
      "execution_count": null
    }
  ]
}