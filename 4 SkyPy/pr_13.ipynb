{
  "metadata": {
    "kernelspec": {
      "name": "python",
      "display_name": "Python (Pyodide)",
      "language": "python"
    },
    "language_info": {
      "name": ""
    }
  },
  "nbformat_minor": 4,
  "nbformat": 4,
  "cells": [
    {
      "cell_type": "code",
      "source": "import numpy as np\nfrom scipy.interpolate import interp2d\nimport matplotlib.pyplot as plt\n\nx = np.linspace(0, 4, 13)\ny = np.array([0, 2, 3, 3.5, 3.75, 3.875, 3.9375, 4])\nX, Y = np.meshgrid(x, y)\nZ = np.sin(np.pi*X/2) * np.exp(Y/2)\nx2 = np.linspace(0, 4, 65)\ny2 = np.linspace(0, 4, 65)\nf = interp2d(x, y, Z, kind='cubic')\nZ2 = f(x2, y2)\nfig, ax = plt.subplots(nrows=1, ncols=2)\nax[0].pcolormesh(X, Y, Z)\nX2, Y2 = np.meshgrid(x2, y2)\nax[1].pcolormesh(X2, Y2, Z2)\nplt.show()",
      "metadata": {
        "trusted": true
      },
      "outputs": [],
      "execution_count": null
    },
    {
      "cell_type": "code",
      "source": "import numpy as np\nfrom scipy.interpolate import RectBivariateSpline\nimport matplotlib.pyplot as plt\nfrom mpl_toolkits.mplot3d import Axes3D\n# Равномерная сетка с укрупненным шагом.\ndx, dy = 0.4, 0.4\nxmax, ymax = 2, 4\nx = np.arange(-xmax, xmax, dx)\ny = np.arange(-ymax, ymax, dy)\nX, Y = np.meshgrid(x, y)\nZ = np.exp(-(2*X)**2 - (Y/2)**2)\ninterp_spline = RectBivariateSpline(y, x, Z)\n# Равномерная сетка с более мелким шагом.\ndx2, dy2 = 0.16, 0.16\nx2 = np.arange(-xmax, xmax, dx2)\ny2 = np.arange(-ymax, ymax, dy2)\nX2, Y2 = np.meshgrid(x2, y2)\nZ2 = interp_spline(y2, x2)\nfig, ax = plt.subplots(nrows=1, ncols=2, subplot_kw={'projection': '3d'})\nax[0].plot_wireframe(X, Y, Z, color='k')\nax[1].plot_wireframe(X2, Y2, Z2, color='k')\nfor axes in ax:\n    axes.set_zlim(-0.2, 1)\n    axes.set_axis_off()\nfig.tight_layout()\nplt.show()",
      "metadata": {
        "trusted": true
      },
      "outputs": [],
      "execution_count": null
    },
    {
      "cell_type": "code",
      "source": "import numpy as np\nfrom scipy.interpolate import griddata\nimport matplotlib.pyplot as plt\nx = np.linspace(-1, 1, 100)\ny = np.linspace(-1, 1, 100)\nX, Y = np.meshgrid(x, y)\ndef f(x, y):\n    s = np.hypot(x, y)\n    phi = np.arctan2(y, x)\n    tau = s + s * (1 - s) / 5 * np.sin(6 * phi)\n    return 5 * (1 - tau) + tau\n\nT = f(X, Y)\n# Выбор npts случайных точек из дискретной области значений моделируемой функции.\nnpts = 400\npx, py = np.random.choice(x, npts), np.random.choice(y, npts)\nfig, ax = plt.subplots(nrows=2, ncols=2)\n# Построение графика моделируемой функции и случайно выбранной группы точек.\nax[0, 0].contourf(X, Y, T)\nax[0, 0].scatter(px, py, c='k', alpha=0.2, marker='.')\nax[0, 0].set_title('Sample points on f(X, Y)')\n# Интерполяция с использованием трех различных методик и построение графика.\nfor i, method in enumerate(('nearest', 'linear', 'cubic')):\n    Ti = griddata((px, py), f(px, py), (X, Y), method=method)\n    r, c = (i + 1) // 2, (i + 1) % 2\n    ax[r, c].contourf(X, Y, Ti)\n    ax[r, c].set_title(\"method = '{}'\".format(method))\nfig.tight_layout()\nplt.show()",
      "metadata": {
        "trusted": true
      },
      "outputs": [],
      "execution_count": null
    },
    {
      "cell_type": "code",
      "source": "",
      "metadata": {
        "trusted": true
      },
      "outputs": [],
      "execution_count": null
    }
  ]
}