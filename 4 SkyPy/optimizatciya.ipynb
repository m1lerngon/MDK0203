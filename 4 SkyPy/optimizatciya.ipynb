{
  "metadata": {
    "kernelspec": {
      "name": "python",
      "display_name": "Python (Pyodide)",
      "language": "python"
    },
    "language_info": {
      "name": ""
    }
  },
  "nbformat_minor": 4,
  "nbformat": 4,
  "cells": [
    {
      "cell_type": "markdown",
      "source": "Использовать метод ```scipy.optimize.brentq``` для поиска решений уравнения",
      "metadata": {}
    },
    {
      "cell_type": "code",
      "source": "import numpy as np\nfrom scipy.optimize import brentq\nf = lambda x: x + 1 + (x-3)**-3\nbrentq(f, -2, -0.5), brentq(f, 0, 2.99)",
      "metadata": {
        "trusted": true
      },
      "outputs": [],
      "execution_count": null
    },
    {
      "cell_type": "markdown",
      "source": "Найти все корни функции",
      "metadata": {}
    },
    {
      "cell_type": "code",
      "source": "import numpy as np\nfrom scipy.optimize import brentq\nimport matplotlib.pyplot as plt\n\n# Определение функции\nf = lambda x: 0.2 + x * np.cos(3 / x)\n\n# Создание массива x и определение шага dx\nx, dx = np.linspace(-1, 1, 1000, retstep=True)\n\n# Вычисление значений функции на границах интервалов\nf_values = f(x)\nf_values_shifted = np.roll(f_values, 1)  # Сдвигаем массив значений на один элемент вправо\nf_values_shifted[0] = f_values[0]  # Заполняем первый элемент\n\n# Находим индексы, где функция меняет знак\nsign_changes = np.where(np.sign(f_values) != np.sign(f_values_shifted))[0]\n\n# Brent's method\nbrent_roots = []\nfor i in sign_changes:\n    a, b = x[i], x[i + 1]\n    if f(a) * f(b) < 0:  # Проверка на разные знаки\n        root = brentq(f, a, b)\n        brent_roots.append(root)\n\nbrent_roots = np.array(brent_roots)\n\n# Построение графика функции и найденных корней\nplt.plot(x, f_values, label='f(x)')\nplt.scatter(brent_roots, [f(x) for x in brent_roots], color='red', marker='o', label='Roots')\nplt.xlabel('x')\nplt.ylabel('f(x)')\nplt.legend()\nplt.grid(True)\nplt.show()\n\n# Вывод найденных корней\nprint(\"Найденные корни:\", brent_roots)",
      "metadata": {
        "trusted": true
      },
      "outputs": [],
      "execution_count": null
    },
    {
      "cell_type": "code",
      "source": "",
      "metadata": {
        "trusted": true
      },
      "outputs": [],
      "execution_count": null
    }
  ]
}