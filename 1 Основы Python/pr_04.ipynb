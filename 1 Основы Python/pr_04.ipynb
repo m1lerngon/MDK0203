{
  "metadata": {
    "kernelspec": {
      "name": "python",
      "display_name": "Python (Pyodide)",
      "language": "python"
    },
    "language_info": {
      "name": ""
    }
  },
  "nbformat_minor": 4,
  "nbformat": 4,
  "cells": [
    {
      "cell_type": "markdown",
      "source": "З 1. а) Изменить базовый класс BankAccount для проверки номера счета, передаваемого в конструктор класса __init__ на соответствие алгоритму Луна. б) Изменить класс CurrentAccount для реализации свободного овердрафта (перерасхода средств). Лимит должен быть установлен в конструкторе __init__\n\nАлгоритм Луна (Luhn algorithm) – это простая формула вычисления контрольной суммы для проверки подлинности кредитных карт и номеров банковских счетов.Он предназначен для предотвращения часто встречающихся ошибок при непреднамеренном искажении данных (например, при ручном вводе номера карты) и выявляет все ошибки в одной цифре и почти все случаи перестановок двух рядом стоящих цифр.Этот алгоритм можно записать в виде следующей последовательности шагов:\n\na.реверсирование (изменение порядка цифр на обратный) числа;\nb.интерпретация числа как массива цифр; затем выбираются цифры с четными индексами (нумерация индексов начинается с 1; цифры с нечетными индексами остаются неизменными) и их значения удваиваются. Если после удваивания получилось число больше 9, то оно заменяется суммой его цифр (например, цифра 6 после удваивания дает результат 12, следовательно, заменяется на 1 + 2 = 3);\nc.все элементы полученного массива суммируются;\nd.если полученная сумма кратна 10 (делится без остатка на 10), то исходное число (номер кредитной карты) верно.",
      "metadata": {}
    },
    {
      "cell_type": "code",
      "source": "class BankAccount:\n    \"\"\" An abstract base class representing a bank account. \"\"\"\n    \n    currency = '$'\n    \n    def __init__(self, customer, account_number, balance=0):\n        \"\"\"\n        Initialize the BankAccount class with a customer, account number,\n        and opening balance (which defaults to 0.)\n        \"\"\"\n        if not self.validate_account_number(account_number):\n            raise ValueError('Invalid account number')\n        \n        self.customer = customer\n        self.account_number = account_number\n        self.balance = balance\n\n    @staticmethod\n    def validate_account_number(account_number):\n        \"\"\"\n        Validate the account number using the Luhn algorithm.\n        \"\"\"\n        account_number = str(account_number)\n        account_number = account_number[::-1]\n        total = 0\n        \n        for i, digit in enumerate(account_number):\n            digit = int(digit)\n            if i % 2 == 1:\n                digit *= 2\n                if digit > 9:\n                    digit -= 9\n            total += digit\n        \n        return total % 10 == 0\n\n    def deposit(self, amount):\n        \"\"\" Deposit amount into the bank account. \"\"\"\n        if amount > 0:\n            self.balance += amount\n        else:\n            print('Invalid deposit amount:', amount)\n\n    def withdraw(self, amount):\n        \"\"\"\n        Withdraw amount from the bank account, ensuring there are sufficient\n        funds.\n        \"\"\"\n        if amount > 0:\n            if amount > self.balance:\n                print('Insufficient funds')\n            else:\n                self.balance -= amount\n        else:\n            print('Invalid withdrawal amount:', amount)\n\nclass CurrentAccount(BankAccount):\n    def __init__(self, customer, account_number, balance=0, overdraft_limit=0):\n        super().__init__(customer, account_number, balance)\n        self.overdraft_limit = overdraft_limit\n\n    def withdraw(self, amount):\n        if amount > 0:\n            if amount > self.balance + self.overdraft_limit:\n                print('Insufficient funds')\n            else:\n                self.balance -= amount\n        else:\n            print('Invalid withdrawal amount:', amount)",
      "metadata": {
        "trusted": true
      },
      "outputs": [],
      "execution_count": null
    },
    {
      "cell_type": "code",
      "source": "",
      "metadata": {
        "trusted": true
      },
      "outputs": [],
      "execution_count": null
    }
  ]
}