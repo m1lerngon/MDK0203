{
  "metadata": {
    "kernelspec": {
      "name": "python",
      "display_name": "Python (Pyodide)",
      "language": "python"
    },
    "language_info": {
      "name": ""
    }
  },
  "nbformat_minor": 4,
  "nbformat": 4,
  "cells": [
    {
      "cell_type": "markdown",
      "source": " Написать программу для считывания данных из файла swallow-speeds.txt (файл доступен в ресурсах) и использования этих данных для вычисления средней скорости (свободного) полета африканской ласточки. Использовать обработку исключений при работе со строками, содержащими некорректные точки данных.",
      "metadata": {}
    },
    {
      "cell_type": "code",
      "source": "# Имя файла с данными\nfilename = \"swallow-speeds.txt\"\n\n# Инициализация переменных для хранения данных\nspeeds = []\ninvalid_data_count = 0\n\ntry:\n    # Открываем файл для чтения\n    with open(filename, \"r\") as file:\n        # Читаем данные построчно из файла\n        for line in file:\n            line = line.strip()  # Удаляем лишние пробелы и символы новой строки\n            if not line or line.endswith(\"#\"):\n                # Пропускаем пустые строки и строки с символом \"#\"\n                invalid_data_count += 1\n                continue\n            try:\n                # Преобразуем строку в число (скорость) и добавляем в список\n                speed = float(line)\n                speeds.append(speed)\n            except ValueError:\n                # Обработка ошибок преобразования строки в число\n                invalid_data_count += 1\n\n    # Проверяем, есть ли корректные данные\n    if len(speeds) > 0:\n        # Вычисляем среднюю скорость\n        average_speed = sum(speeds) / len(speeds)\n        print(\"Средняя скорость полета африканской ласточки:\", average_speed, \"м/с\")\n    else:\n        print(\"Нет корректных данных для вычисления средней скорости.\")\n\n    # Выводим количество строк с некорректными данными\n    print(\"Количество строк с некорректными данными:\", invalid_data_count)\n\nexcept FileNotFoundError:\n    print(f\"Файл '{filename}' не найден.\")\nexcept Exception as e:\n    print(\"Произошла ошибка при обработке файла:\", str(e))",
      "metadata": {
        "trusted": true
      },
      "outputs": [],
      "execution_count": null
    },
    {
      "cell_type": "markdown",
      "source": "2 Изменить функцию из примера П 3, которая возвращает вектор в показанной ниже форме:",
      "metadata": {}
    },
    {
      "cell_type": "code",
      "source": "def str_vector(v):\n    assert isinstance(v, (list, tuple)), 'Аргумент для str_vector должен быть списком или кортежем'\n    assert len(v) in (2, 3), 'Вектор должен быть 2D или 3D в str_vector'\n    \n    for component in v:\n        assert isinstance(component, (int, float)), 'Элемент вектора должен быть действительным числом'\n\n    unit_vectors = ['i', 'j', 'k']\n    components = []\n\n    for i, component in enumerate(v):\n        if component != 0:\n            components.append('{}{}'.format(component, unit_vectors[i]))\n\n    if not components:\n        return '0'\n\n    return '+'.join(components).replace('+-', '-')\n\n# Пример использования с некорректным элементом (строка)\ntry:\n    print(str_vector([-2, 3.5, 'a']))\nexcept AssertionError as e:\n    print(f'Произошла ошибка: {e}')",
      "metadata": {
        "trusted": true
      },
      "outputs": [],
      "execution_count": null
    },
    {
      "cell_type": "markdown",
      "source": "Python соблюдает соглашение, принятое во многих языках программирования при выборе определения значения 0^0 = 1.Написать функцию powr(a,b), поведение которой почти полностью совпадает с поведением выражения a**b (или для рассматриваемого здесь случая – math.pow(a,b)), но генерирует исключение ValueError, если a и b равны нулю.",
      "metadata": {}
    },
    {
      "cell_type": "code",
      "source": "import math\n\ndef powr(a, b):\n    if a == 0 and b == 0:\n        raise ValueError(\"Both base and exponent cannot be zero.\")\n    return math.pow(a, b)\n\n# Примеры использования\ntry:\n    result = powr(2, 3)\n    print(result)\n\n    result = powr(0, 5)\n    print(result)\n\n    result = powr(0, 0) #ValueError\n    print(result)\nexcept ValueError as e:\n    print(f\"Произошла ошибка: {e}\")",
      "metadata": {
        "trusted": true
      },
      "outputs": [],
      "execution_count": null
    },
    {
      "cell_type": "code",
      "source": "",
      "metadata": {
        "trusted": true
      },
      "outputs": [],
      "execution_count": null
    },
    {
      "cell_type": "code",
      "source": "",
      "metadata": {
        "trusted": true
      },
      "outputs": [],
      "execution_count": null
    }
  ]
}