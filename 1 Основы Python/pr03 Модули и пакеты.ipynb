{
  "cells": [
    {
      "cell_type": "markdown",
      "id": "2b2317f3",
      "metadata": {},
      "source": [
        "#  Модули и пакеты"
      ]
    },
    {
      "cell_type": "markdown",
      "id": "1757d38c",
      "metadata": {},
      "source": [
        "Как мы уже видели, Python является вполне  модульным языком, и  его\n",
        "функциональность не  ограничивается основными принципами программирования (т. е. встроенными методами и структурами данных, с которыми мы\n",
        "имели дело до сих пор). В  любой программе доступны также расширенные\n",
        "функциональные свойства, включаемые с помощью команды ```import```. Эта команда создает ссылку на модули, представляющие собой обычные Pytho nфайлы, содержащие определения и инструкции. Встретив строку\n",
        "\n",
        "```python\n",
        "import <module>\n",
        "```\n",
        "интерпретатор Python выполняет инструкции в файле ```<module>.py``` и включает\n",
        "имя модуля ```<module>``` в текущее пространство имен, после чего атрибуты, определяемые этим модулем, становятся доступными с применением синтаксиса\n",
        "точки: ```<module>.<attribute>```.\n",
        "\n",
        "Определить собственный модуль так же просто, как поместить исходный\n",
        "код в  файл ```<module>.py```, расположенный в  локации, в  которой интерпретатор Python может найти его (для небольших проектов это обычно тот же каталог, в котором расположена программа, импортирующая модуль). С учетом\n",
        "синтаксиса команды ```import``` необходимо избегать такого именования модуля, которое не  соответствует корректному идентификатору Python. Например, имя файла ```<module>.py``` не должно содержать символ дефиса и не должно начинаться с цифры. Не рекомендуется давать модулю имя, совпадающее с именем какого-либо встроенного модуля (такого как ```math``` или\n",
        "```random```), поскольку встроенные модули имеют более высокий приоритет при\n",
        "импорте Python.\n",
        "\n",
        "**Пакет (package)** языка Python – это просто структурированный комплект\n",
        "модулей, размещенный в  некотором каталоге файловой системы. Пакеты\n",
        "представляют собой естественный способ организации и распространения\n",
        "крупных проектов на языке Python. Для создания пакета файлы модулей\n",
        "помещаются в один каталог вместе с файлом ```__init__.py```. Этот файл запускается при импорте пакета и может выполнять некоторые операции инициализации и собственные команды импорта. Если особенная инициализация\n",
        "не требуется, то этот файл может быть пустым (длиной ноль байтов), но он\n",
        "обязательно должен существовать, чтобы Python распознавал такой каталог\n",
        "как пакет.\n",
        "Например, пакет ```NumPy``` (см. главу Numpy) существует как показанный ниже каталог (некоторые файлы и подкаталоги не показаны для экономии места):\n",
        "\n",
        "```\n",
        "numpy/\n",
        " __init__.py\n",
        " core/\n",
        " fft/\n",
        " __init__.py\n",
        " fftpack.py\n",
        " info.py\n",
        " ...\n",
        " linalg/\n",
        " __init__.py\n",
        " linalg.py\n",
        " info.py\n",
        " ...\n",
        " polynomial/\n",
        " __init__.py\n",
        " chebyshev.py\n",
        " hermite.py\n",
        " legendre.py\n",
        " ...\n",
        " random/\n",
        " version.py\n",
        " ...\n",
        "```\n",
        "Здесь, например, ```polynomial```  – это вложенный пакет в  структуре пакета\n",
        "numpy, содержащий несколько модулей, в том числе модуль ```legendre```, который\n",
        "можно импортировать:\n",
        "\n",
        "```python\n",
        "import numpy.polynomial.legendre\n",
        "```\n",
        "Чтобы избежать использования развернутого синтаксиса с точкой при обращении к атрибутам этого модуля, удобнее воспользоваться такой командой:\n",
        "\n",
        "```python\n",
        "from numpy.polynomial import legendre\n",
        "```\n",
        "\n",
        "В табл. 6 перечислены некоторые основные бесплатные модули и пакеты\n",
        "Python для программных приложений общего назначения, а также для вычислительной и научной работы. Некоторые из них устанавливаются вместе с основным дистрибутивом Python (стандартная библиотека Standard Library),\n",
        "другие можно загрузить и  установить отдельно. Перед тем как приступить\n",
        "к реализации какого-либо собственного алгоритма, проверьте, не включена ли\n",
        "такая реализация в один из существующих пакетов Python.\n",
        "\n",
        "\n"
      ]
    },
    {
      "cell_type": "markdown",
      "id": "114f8775",
      "metadata": {},
      "source": [
        "**Таблица 6**. Модули и пакеты Python. Помеченные звездочкой (\\*) компоненты не являются\n",
        "частью Python Standard Library, поэтому должны устанавливаться отдельно, например с помощью утилиты pip"
      ]
    },
    {
      "cell_type": "markdown",
      "id": "3431658e",
      "metadata": {},
      "source": [
        "|Модуль/пакет    |Описание    |\n",
        "|:---|:---|\n",
        "|os, sys|Сервисы операционной системы|\n",
        "|math, cmath|Математические функции|\n",
        "|random|Генератор случайных чисел |\n",
        "|collections|Типы данных для контейнеров, расширяющие функциональность словарей, кортежей и т. п.|\n",
        "|itertools|Инструменты для эффективных итераторов, расширяющие функциональность простых циклов Python|\n",
        "|glob|Расширение шаблона путевого имени в стиле Unix|\n",
        "|datetime|Парсинг и обработка дат и времени |\n",
        "|fractions|Арифметика рациональных чисел (правильных дробей)|\n",
        "|re|Регулярные выражения|\n",
        "|argparse|Парсер для ключей и аргументов командной строки|\n",
        "|urllib |Открытие, чтение и парсинг URL (включая веб-страницы) (см. раздел 4.5.2)|\n",
        "|* Django (django)|Широко известная рабочая среда для веб-приложений|\n",
        "|* pyparsing|Лексический парсер для простых грамматик|\n",
        "|pdb |Отладчик языка Python|\n",
        "|logging|Встроенный в Python модуль ведения журналов|\n",
        "|xml, lxml|Парсеры языка разметки XML|\n",
        "|* VPython (visual)|Трехмерная визуализация|\n",
        "|unittest |Рабочая среда модульного тестирования для систематического проведения тестирования и валидации отдельных единиц (модулей) кода|\n",
        "|NumPy (numpy) |Научные вычисления и численные методы|\n",
        "|SciPy (scipy)|Научные вычислительные алгоритмы|\n",
        "|Matplotlib (matplotlib)|Графическое отображение данных (см. главы 3 и 7)|\n",
        "|SymPy (sympy)|Символические вычисления (компьютерная алгебра)|\n",
        "|pandas|Обработка и анализ данных с использованием табличных структур данных|\n",
        "|scikit-learn|Машинное обучение|\n",
        "|Beautiful Soup 4 (beautifulsoup4)|Парсер языка разметки HTML с возможностями обработки некорректно сформированных документов|\n",
        "\n"
      ]
    },
    {
      "cell_type": "markdown",
      "id": "c855767d",
      "metadata": {},
      "source": [
        "Несмотря на существование других менеджеров пакетов, приложение pip\n",
        "стало фактическим стандартом. Приложение pip обычно устанавливается по\n",
        "умолчанию вместе с большинством дистрибутивов Python и великолепно выполняет работу по управлению версиями и зависимостями пакетов. Для установки пакета package из командной строки используется показанный ниже синтаксис:\n",
        "\n",
        "```\n",
        "pip install package # Установка самой последней версии пакета.\n",
        "pip install package==X.Y.Z # Установка версии X.Y.Z.\n",
        "pip install 'package>=X.Y.Z' # Установка версии не ниже X.Y.Z.\n",
        "```\n",
        "Для корректного удаления (деинсталляции) пакета применяется следующая\n",
        "команда:\n",
        "\n",
        "```\n",
        "pip uninstall package\n",
        "```"
      ]
    },
    {
      "cell_type": "markdown",
      "id": "b414f365",
      "metadata": {},
      "source": [
        "## Модуль random"
      ]
    },
    {
      "cell_type": "markdown",
      "id": "14b6ee45",
      "metadata": {},
      "source": [
        "Для имитаций, моделирования и  некоторых вычислительных алгоритмов\n",
        "часто требуется генерация случайных чисел из некоторого распределения.\n",
        "Тема генерации случайных чисел весьма сложна и  интересна, но в  данном\n",
        "случае для нас важен тот факт, что в Python, как и в большинстве других языков программирования, имеется реализация генератора псевдослучайных\n",
        "чисел (ГПСЧ). Этот алгоритм генерирует последовательность чисел, свойства\n",
        "которых приближенно соответствуют свойствам «истинных» случайных чисел. Такие последовательности определяются с  помощью исходного состояния seed (семя, посев) и при одном и том же значении seed всегда одинаковы: в этом смысле последовательности являются детерминированными. Это может быть положительным свойством (можно повторно воспроизвести вычисление с  использованием определенной последовательности случайных чисел) или отрицательным свойством (например, в криптографии, когда последовательность случайных чисел должна храниться в секрете). Любой ГПСЧ будет генерировать последовательность, которая в конце концов повторяется, но у качественного генератора весьма длительный период неповторяющихся чисел. Реализованный в Python ГПСЧ – это вихрь Мерсенна (Mersenne Twister),\n",
        "надежный, хорошо изученный алгоритм с периодом 219937 − 1 (это число, содержащее более 6000 знаков по основанию 10)."
      ]
    },
    {
      "cell_type": "markdown",
      "id": "871e5b1d",
      "metadata": {},
      "source": [
        "### Генерация случайных чисел"
      ]
    },
    {
      "cell_type": "markdown",
      "id": "16b621d8",
      "metadata": {},
      "source": [
        "Исходный посев (seed) для генератора случайных чисел можно выполнить с помощьюлюбого хешируемого объекта (например,неизменяемого объекта,такого\n",
        "как целое число). Сразу после импорта модуля выполняется посев с использованием представления текущего системного времени (если операционная система\n",
        "не предоставляет более эффективный источник случайного посева). Посев для\n",
        "ГПСЧ можно в любой момент изменить с помощью вызова ```random.seed```.\n",
        "Основным методом генерации случайных чисел является random.random.Этот\n",
        "метод генерирует случайное число, выбранное из равномерного распределения\n",
        "в полуоткрытом интервале ```[0,1)```, т. е. включающем 0, но не включающем 1."
      ]
    },
    {
      "cell_type": "code",
      "execution_count": 1,
      "id": "35a87fca",
      "metadata": {},
      "outputs": [
        {
          "data": {
            "text/plain": [
              "0.6323708898476204"
            ]
          },
          "execution_count": 1,
          "metadata": {},
          "output_type": "execute_result"
        }
      ],
      "source": [
        "import random\n",
        "random.random() # \"Случайный\" посев для ГПСЧ."
      ]
    },
    {
      "cell_type": "code",
      "execution_count": 3,
      "id": "9f78af52",
      "metadata": {},
      "outputs": [
        {
          "data": {
            "text/plain": [
              "0.6394267984578837"
            ]
          },
          "execution_count": 3,
          "metadata": {},
          "output_type": "execute_result"
        }
      ],
      "source": [
        "random.seed(42) # Посев для ГПСЧ с использованием конкретного числового значения.\n",
        "random.random()"
      ]
    },
    {
      "cell_type": "code",
      "execution_count": 4,
      "id": "f3995a40",
      "metadata": {},
      "outputs": [
        {
          "data": {
            "text/plain": [
              "0.025010755222666936"
            ]
          },
          "execution_count": 4,
          "metadata": {},
          "output_type": "execute_result"
        }
      ],
      "source": [
        "random.random()"
      ]
    },
    {
      "cell_type": "code",
      "execution_count": 6,
      "id": "d26120e8",
      "metadata": {},
      "outputs": [
        {
          "data": {
            "text/plain": [
              "0.6394267984578837"
            ]
          },
          "execution_count": 6,
          "metadata": {},
          "output_type": "execute_result"
        }
      ],
      "source": [
        "random.seed(42) # Повторный посев с тем же значением, что и ранее.\n",
        "random.random() # Поэтому последовательность случайных чисел повторяется."
      ]
    },
    {
      "cell_type": "code",
      "execution_count": 7,
      "id": "274e355f",
      "metadata": {},
      "outputs": [
        {
          "data": {
            "text/plain": [
              "0.025010755222666936"
            ]
          },
          "execution_count": 7,
          "metadata": {},
          "output_type": "execute_result"
        }
      ],
      "source": [
        "random.random()"
      ]
    },
    {
      "cell_type": "markdown",
      "id": "d5c3b2e3",
      "metadata": {},
      "source": [
        "При вызове ```random.seed()``` без аргумента выполняется повторный посев для\n",
        "ГПСЧ со «случайным» значением, которое использовалось модулем ```random``` сразу после импорта.\n",
        "Для выбора случайного числа с плавающей точкой ```N``` из заданного интервала\n",
        "```a ≤ N ≤ b``` используется метод ```random.uniform(a,b)```:"
      ]
    },
    {
      "cell_type": "code",
      "execution_count": 8,
      "id": "c3f0d8d2",
      "metadata": {},
      "outputs": [
        {
          "data": {
            "text/plain": [
              "-0.899882726523523"
            ]
          },
          "execution_count": 8,
          "metadata": {},
          "output_type": "execute_result"
        }
      ],
      "source": [
        "random.uniform(-2., 2.)"
      ]
    },
    {
      "cell_type": "code",
      "execution_count": 9,
      "id": "d71e5fae",
      "metadata": {},
      "outputs": [
        {
          "data": {
            "text/plain": [
              "-1.107157047404709"
            ]
          },
          "execution_count": 9,
          "metadata": {},
          "output_type": "execute_result"
        }
      ],
      "source": [
        "random.uniform(-2., 2.)"
      ]
    },
    {
      "cell_type": "markdown",
      "id": "5459a867",
      "metadata": {},
      "source": [
        "В модуле ```random``` есть несколько методов для произвольного выбора случайных чисел из неравномерных распределений (см. документацию здесь: https://\n",
        "docs.python.org/3/library/random.html) – это очень важно для случаев, описанных\n",
        "ниже.\n",
        "Чтобы вернуть число из нормального распределения со средним значением mu и  стандартным отклонением ```sigma```, используется метод ```random.normalvariate(mu, sigma)```:"
      ]
    },
    {
      "cell_type": "code",
      "execution_count": 10,
      "id": "e7a7dea7",
      "metadata": {},
      "outputs": [
        {
          "data": {
            "text/plain": [
              "118.82178896586194"
            ]
          },
          "execution_count": 10,
          "metadata": {},
          "output_type": "execute_result"
        }
      ],
      "source": [
        "random.normalvariate(100, 15)"
      ]
    },
    {
      "cell_type": "code",
      "execution_count": 11,
      "id": "25d81b08",
      "metadata": {},
      "outputs": [
        {
          "data": {
            "text/plain": [
              "97.92911405885782"
            ]
          },
          "execution_count": 11,
          "metadata": {},
          "output_type": "execute_result"
        }
      ],
      "source": [
        "random.normalvariate(100, 15)"
      ]
    },
    {
      "cell_type": "markdown",
      "id": "17942a41",
      "metadata": {},
      "source": [
        "Для выбора случайного целого числа ```N``` из заданного интервала ```a ≤ N ≤ b``` применяется метод ```random.randint(a,b)```:"
      ]
    },
    {
      "cell_type": "code",
      "execution_count": 15,
      "id": "151da565",
      "metadata": {},
      "outputs": [
        {
          "data": {
            "text/plain": [
              "9"
            ]
          },
          "execution_count": 15,
          "metadata": {},
          "output_type": "execute_result"
        }
      ],
      "source": [
        "random.randint(5, 10)"
      ]
    },
    {
      "cell_type": "code",
      "execution_count": 17,
      "id": "de58df0f",
      "metadata": {},
      "outputs": [
        {
          "data": {
            "text/plain": [
              "5"
            ]
          },
          "execution_count": 17,
          "metadata": {},
          "output_type": "execute_result"
        }
      ],
      "source": [
        "random.randint(5, 10)"
      ]
    },
    {
      "cell_type": "markdown",
      "id": "4dbab9d7",
      "metadata": {},
      "source": [
        "## Последовательности случайных чисел"
      ]
    },
    {
      "cell_type": "markdown",
      "id": "8f03e453",
      "metadata": {},
      "source": [
        "Иногда может потребоваться выбор случайного элемента из некоторой последовательности, например из списка. Это можно сделать с помощью метода\n",
        "```random.choice```:"
      ]
    },
    {
      "cell_type": "code",
      "execution_count": 18,
      "id": "9043b5ef",
      "metadata": {},
      "outputs": [],
      "source": [
        " seq = [10, 5, 2, 'ni', -3.4]"
      ]
    },
    {
      "cell_type": "code",
      "execution_count": 19,
      "id": "7c4e965a",
      "metadata": {},
      "outputs": [
        {
          "data": {
            "text/plain": [
              "-3.4"
            ]
          },
          "execution_count": 19,
          "metadata": {},
          "output_type": "execute_result"
        }
      ],
      "source": [
        " random.choice(seq)"
      ]
    },
    {
      "cell_type": "code",
      "execution_count": 20,
      "id": "28f6d880",
      "metadata": {},
      "outputs": [
        {
          "data": {
            "text/plain": [
              "5"
            ]
          },
          "execution_count": 20,
          "metadata": {},
          "output_type": "execute_result"
        }
      ],
      "source": [
        "random.choice(seq)"
      ]
    },
    {
      "cell_type": "markdown",
      "id": "06bf43ab",
      "metadata": {},
      "source": [
        "Другой метод ```random.shuffle``` в  случайном порядке перемешивает (переставляет) элементы в последовательности (изменяя саму последовательность):"
      ]
    },
    {
      "cell_type": "code",
      "execution_count": 22,
      "id": "860d22cd",
      "metadata": {},
      "outputs": [
        {
          "data": {
            "text/plain": [
              "[5, 'ni', 2, 10, -3.4]"
            ]
          },
          "execution_count": 22,
          "metadata": {},
          "output_type": "execute_result"
        }
      ],
      "source": [
        "random.shuffle(seq)\n",
        "seq"
      ]
    },
    {
      "cell_type": "markdown",
      "id": "6f83bd5c",
      "metadata": {},
      "source": [
        "Обратите внимание: поскольку случайная перестановка выполняется в самой последовательности, эта последовательность непременно должна быть\n",
        "изменяемой: например, нельзя перемешивать содержимое кортежей.\n",
        "Наконец, для произвольного выбора списка с ```k``` неповторяющимися элементами из последовательности или множества (без замены) ```population``` существует метод ```random.sample(population, k)```:"
      ]
    },
    {
      "cell_type": "code",
      "execution_count": 23,
      "id": "185922d7",
      "metadata": {},
      "outputs": [
        {
          "data": {
            "text/plain": [
              "[91507, 55393, 44598, 36422, 20380]"
            ]
          },
          "execution_count": 23,
          "metadata": {},
          "output_type": "execute_result"
        }
      ],
      "source": [
        "raffle_numbers = range(1, 100001)\n",
        "winners = random.sample(raffle_numbers , 5)\n",
        "winners"
      ]
    },
    {
      "cell_type": "markdown",
      "id": "55229297",
      "metadata": {},
      "source": [
        "Итоговый список содержит элементы в порядке их выбора (первый по индексу элемент  – выбранный первым), поэтому можно, например, без предвзятости объявить билет с номером 89 734 выигравшим джекпот, а остальные\n",
        "четыре номера – «победителями второй категории»."
      ]
    },
    {
      "cell_type": "markdown",
      "id": "68a89d9e",
      "metadata": {},
      "source": [
        "---"
      ]
    },
    {
      "cell_type": "markdown",
      "id": "ab7eb4c4",
      "metadata": {},
      "source": [
        "**Пример 17**. Парадокс (задача) Монти Холла (Monty Hall problem) – широко известная задача теории вероятностей, излагаемая в форме воображаемого игрового\n",
        "шоу. Участнику предлагается выбрать одну из трех дверей: за одной находится автомобиль, за двумя другими – козы. Участник выбирает дверь, после чего ведущий\n",
        "открывает другую дверь, за которой обнаруживается коза. Ведущий заранее знает,\n",
        "за какой дверью скрыт автомобиль. Затем участнику предлагается изменить выбор,\n",
        "чтобы открыть другую дверь, или оставить в силе свой первоначальный выбор.\n",
        "Вопреки здравому смыслу наилучшей стратегией для выигрыша машины\n",
        "является изменение выбора, как показано в  приведенной ниже имитации\n",
        "в листинге 5."
      ]
    },
    {
      "cell_type": "markdown",
      "id": "adf1cffe",
      "metadata": {},
      "source": [
        "**Листинг 5**. Задача Монти Холла"
      ]
    },
    {
      "cell_type": "code",
      "execution_count": 31,
      "id": "03d57341",
      "metadata": {},
      "outputs": [
        {
          "name": "stdout",
          "output_type": "stream",
          "text": [
            "Monty Hall Problem with 3 doors\n",
            "Proportion of wins without switching: 0.3242\n",
            "Proportion of wins with switching: 0.6561\n"
          ]
        }
      ],
      "source": [
        "# eg4-montyhall.py\n",
        "import random\n",
        "def run_trial(switch_doors, ndoors=3):\n",
        "    \"\"\"\n",
        "    Run a single trial of the Monty Hall problem, with or without switching\n",
        "    after the game show host reveals a goat behind one of the unchosen doors.\n",
        "    (switch_doors is True or False). The car is behind door number 1 and the\n",
        "    game show host knows that. Returns True for a win, otherwise returns False.\n",
        "    \"\"\"\n",
        "    # \"\"\"\n",
        "    # Запуск одиночного испытания парадокса (задачи) Монти Холла с изменением или без\n",
        "    # изменения варианта выбора, после того как ведущий предъявил козу, открыв одну из\n",
        "    # невыбранных дверей. (Смена выбора двери обозначена как True или False.) Автомобиль\n",
        "    # находится за дверью номер 1, и ведущий знает это. При выигрыше возвращается значение\n",
        "    # True,\n",
        "    # \"\"\"\n",
        "    # Выбор случайной двери из доступных ndoors.\n",
        "    chosen_door = random.randint(1, ndoors)\n",
        "    if switch_doors:\n",
        "        # Обнаружена коза.\n",
        "        revealed_door = 3 if chosen_door==2 else 2\n",
        "        # Изменение варианта выбора на любую другую дверь, отличную от выбранной\n",
        "        # изначально, при одной открытой двери, за которой обнаружилась коза.\n",
        "        available_doors = [dnum for dnum in range(1, ndoors+1) if dnum not in (chosen_door, revealed_door)]\n",
        "        chosen_door = random.choice(available_doors)\n",
        "        # Выигрыш, если выбрана дверь номер 1.\n",
        "    return chosen_door == 1\n",
        "\n",
        "def run_trials(ntrials , switch_doors , ndoors=3):\n",
        "    \"\"\"\n",
        "    Run ntrials iterations of the Monty Hall problem with ndoors doors, with\n",
        "    and without switching (switch_doors = True or False). Returns the number\n",
        "    of trials which resulted in winning the car by picking door number 1.\n",
        "    \"\"\"\n",
        "    # \"\"\"\n",
        "    # Запуск ntrials итераций задачи Монти Холла с ndoors дверьми с изменением или без\n",
        "    # изменения варианта выбора (switch_doors = True или False). Возвращает количество\n",
        "    # испытаний, завершившихся выигрышем автомобиля при выборе двери номер 1.\n",
        "    # \"\"\"\n",
        "    nwins = 0\n",
        "    for i in range(ntrials):\n",
        "        if run_trial(switch_doors, ndoors):\n",
        "            nwins += 1\n",
        "    return nwins\n",
        "\n",
        "ndoors, ntrials = 3, 10000\n",
        "nwins_without_switch = run_trials(ntrials, False, ndoors)\n",
        "nwins_with_switch = run_trials(ntrials, True, ndoors)\n",
        "print('Monty Hall Problem with {} doors'.format(ndoors))\n",
        "print('Proportion of wins without switching: {:.4f}'.format(nwins_without_switch/ntrials))\n",
        "print('Proportion of wins with switching: {:.4f}'.format(nwins_with_switch/ntrials))"
      ]
    },
    {
      "cell_type": "markdown",
      "id": "50c08f20",
      "metadata": {},
      "source": [
        "Без нарушения общности условий задачи можно поместить автомобиль\n",
        "за дверью номер  1, оставив для участника возможность выбора любой\n",
        "двери случайным образом.\n",
        "Чтобы сделать код чуть более интересным, было введено переменное количество дверей в имитации этой задачи (но при этом остается только один\n",
        "автомобиль)."
      ]
    },
    {
      "cell_type": "markdown",
      "id": "6c752f3f",
      "metadata": {},
      "source": [
        "## Пакет urllib"
      ]
    },
    {
      "cell_type": "markdown",
      "id": "87fc2bba",
      "metadata": {},
      "source": [
        "Пакет ```urllib``` в Python 3 – это набор модулей для открытия и извлечения содержимого (контента), на который указывают URL (Uniform Resource Locators),\n",
        "обычно в форме веб-адресов, доступных по протоколу HTTP (HyperText Transfer Protocol), HTTPS или FTP (File Transfer Protocol). В этом разделе предлагается краткая вводная инструкция по использованию пакета ```urllib```."
      ]
    },
    {
      "cell_type": "markdown",
      "id": "26726224",
      "metadata": {},
      "source": [
        "### Открытие и чтение URL"
      ]
    },
    {
      "cell_type": "markdown",
      "id": "e04b54d3",
      "metadata": {},
      "source": [
        "Для получения содержимого по URL с использованием протокола HTTP сначала необходимо подготовить HTTP-запрос (HTTP request), создав объект Request. Например:"
      ]
    },
    {
      "cell_type": "code",
      "execution_count": 32,
      "id": "2ad52a66",
      "metadata": {},
      "outputs": [],
      "source": [
        "import urllib.request\n",
        "req = urllib.request.Request('https://www.wikipedia.org')"
      ]
    },
    {
      "cell_type": "markdown",
      "id": "45bf58c2",
      "metadata": {},
      "source": [
        "Объект ```Request``` позволяет передавать данные (используя команду GET или\n",
        "POST) и другую информацию о запросе (метаданные, передаваемые в заголовках HTTP, – см. ниже). Но для простого запроса можно просто открыть URL напрямую как объект, подобный файлу, с помощью метода ```urlopen()```:"
      ]
    },
    {
      "cell_type": "raw",
      "id": "b0d2e754",
      "metadata": {},
      "source": [
        "response = urllib.request.urlopen(req)"
      ]
    },
    {
      "cell_type": "markdown",
      "id": "32f60b85",
      "metadata": {},
      "source": [
        "Правильной практической методикой является перехват двух основных типов исключений, которые генерируются при выполнении этой инструкции.\n",
        "Первый тип ```URLError``` генерируется, если сервер не  существует или если отсутствует сетевое соединение. Второй тип ```HTTPError``` генерируется, если сервер\n",
        "возвращает код ошибки (например, 404: Page Not Found).Эти исключения определяются в модуле ```urllib.error```."
      ]
    },
    {
      "cell_type": "raw",
      "id": "3d832ed4",
      "metadata": {},
      "source": [
        "from urllib.error import URLError , HTTPError\n",
        "try:\n",
        "    response = urllib.request.urlopen(req)\n",
        "except HTTPError as e:\n",
        "    print('The server returned error code', e.code)\n",
        "except URLError as e:\n",
        "    print('Failed to reach server at {} for the following reason:\\n{}'.format(url, e.reason))\n",
        "else:\n",
        "    # Получен ответ об успешном выполнении запроса: OK"
      ]
    },
    {
      "cell_type": "markdown",
      "id": "81c070ce",
      "metadata": {},
      "source": [
        "Предполагая, что метод ```urlopen()``` отработал успешно, часто не требуются\n",
        "какие-либо дополнительные действия, кроме простого чтения контента из\n",
        "объекта ответа:"
      ]
    },
    {
      "cell_type": "raw",
      "id": "fd058f3b",
      "metadata": {},
      "source": [
        "content = response.read()"
      ]
    },
    {
      "cell_type": "markdown",
      "id": "1f6ea0f8",
      "metadata": {},
      "source": [
        "Контент будет возвращен как строка байтов (bytestring). Для перекодировки\n",
        "ее в строку Python (Unicode) необходимо знать, как именно закодирована исходная строка. Правильный ресурс включает определение используемого набора символов в атрибут Content-Type HTTP-заголовка. Его можно применять\n",
        "следующим образом:"
      ]
    },
    {
      "cell_type": "raw",
      "id": "58febc50",
      "metadata": {},
      "source": [
        "charset = response.headers.get_content_charset()\n",
        "html = content.decode(charset)"
      ]
    },
    {
      "cell_type": "markdown",
      "id": "ba30d615",
      "metadata": {},
      "source": [
        "Здесь html становится декодированной Unicode-строкой Python. Если в возвращаемых заголовках не  указан используемый набор символов, то можно попытаться сделать вероятное предположение (например, установить charset='utf-8')."
      ]
    },
    {
      "cell_type": "markdown",
      "id": "9ee91696",
      "metadata": {},
      "source": [
        "## Запросы GET и POST"
      ]
    },
    {
      "cell_type": "markdown",
      "id": "8d8df90c",
      "metadata": {},
      "source": [
        "Часто необходимо вместе с URL передавать данные для извлечения контента\n",
        "с сервера. Например, при заполнении HTML-формы на веб-странице значения\n",
        "для соответствующих полей должны быть переведены в требуемую кодировку\n",
        "и переданы на сервер в соответствии с протоколами GET или POST.\n",
        "Модуль ```urllib.parse``` позволяет кодировать данные из словаря Python в форму, пригодную для передачи на веб-сервер. Ниже приведен пример из «Википедии» для API с использованием запроса GET:"
      ]
    },
    {
      "cell_type": "raw",
      "id": "71916f8a",
      "metadata": {},
      "source": [
        "url = 'https://wikipedia.org/w/api.php'\n",
        "data = {'page': 'Monty_Python', 'prop': 'text', 'action': 'parse', 'section': 0}\n",
        "encoded_data = urllib.parse.urlencode(data)\n",
        "full_url = url + '?' + encoded_data\n",
        "full_url\n",
        "req = urllib.request.Request(full_url)\n",
        "response = urllib.request.urlopen(req)\n",
        "html = response.read().decode('utf-8')"
      ]
    },
    {
      "cell_type": "markdown",
      "id": "43811e8b",
      "metadata": {},
      "source": [
        "Для выполнения запроса POST вместо добавления перекодированных данных в строку ```<url>?``` эти данные напрямую передаются в конструктор ```Request```:"
      ]
    },
    {
      "cell_type": "raw",
      "id": "3a7625de",
      "metadata": {},
      "source": [
        "req = urllib.request.Request(url, encoded_data)"
      ]
    },
    {
      "cell_type": "markdown",
      "id": "6568996f",
      "metadata": {},
      "source": [
        "## Модуль datetime"
      ]
    },
    {
      "cell_type": "markdown",
      "id": "4bc679d1",
      "metadata": {},
      "source": [
        "Модуль ```datetime``` предоставляет классы для работы с датамии временем.Существует множество тонкостей, связанных с обработкой таких данных (временные́\n",
        "пояса и зоны, различные календари, переход на летнее и зимнее время и т. д.),\n",
        "поэтому полная документация по модулю datetime доступна в онлайн-режиме\n",
        "(https://docs.python.org/3/library/datetime.html). В этом разделе представлен краткий обзор наиболее часто встречающихся вариантов использования."
      ]
    },
    {
      "cell_type": "markdown",
      "id": "b7938fd0",
      "metadata": {},
      "source": [
        "**Даты**\n",
        "Объект ```datetime.date``` представляет конкретный день, месяц и  год в  идеализированном календаре (предполагается, что используемый в  настоящее\n",
        "время григорианский календарь применяется для всех дат в  прошлом и  в\n",
        "будущем). Для создания объекта ```date``` необходимо передать в  явной форме\n",
        "числовые значения, соответствующие году, месяцу и дню, или вызвать конструктор ```date.today```:"
      ]
    },
    {
      "cell_type": "code",
      "execution_count": 37,
      "id": "08812462",
      "metadata": {},
      "outputs": [
        {
          "ename": "ValueError",
          "evalue": "day is out of range for month",
          "output_type": "error",
          "traceback": [
            "\u001b[1;31m---------------------------------------------------------------------------\u001b[0m",
            "\u001b[1;31mValueError\u001b[0m                                Traceback (most recent call last)",
            "Input \u001b[1;32mIn [37]\u001b[0m, in \u001b[0;36m<cell line: 3>\u001b[1;34m()\u001b[0m\n\u001b[0;32m      1\u001b[0m \u001b[38;5;28;01mfrom\u001b[39;00m \u001b[38;5;21;01mdatetime\u001b[39;00m \u001b[38;5;28;01mimport\u001b[39;00m date\n\u001b[0;32m      2\u001b[0m birthday \u001b[38;5;241m=\u001b[39m date(\u001b[38;5;241m2004\u001b[39m, \u001b[38;5;241m11\u001b[39m, \u001b[38;5;241m5\u001b[39m) \u001b[38;5;66;03m# OK\u001b[39;00m\n\u001b[1;32m----> 3\u001b[0m notadate \u001b[38;5;241m=\u001b[39m \u001b[43mdate\u001b[49m\u001b[43m(\u001b[49m\u001b[38;5;241;43m2005\u001b[39;49m\u001b[43m,\u001b[49m\u001b[43m \u001b[49m\u001b[38;5;241;43m2\u001b[39;49m\u001b[43m,\u001b[49m\u001b[43m \u001b[49m\u001b[38;5;241;43m29\u001b[39;49m\u001b[43m)\u001b[49m\n",
            "\u001b[1;31mValueError\u001b[0m: day is out of range for month"
          ]
        }
      ],
      "source": [
        "from datetime import date\n",
        "birthday = date(2004, 11, 5) # OK\n",
        "notadate = date(2005, 2, 29) # Ошибка: 2005 год не был високосным."
      ]
    },
    {
      "cell_type": "code",
      "execution_count": 38,
      "id": "e31a8087",
      "metadata": {},
      "outputs": [
        {
          "data": {
            "text/plain": [
              "datetime.date(2022, 9, 24)"
            ]
          },
          "execution_count": 38,
          "metadata": {},
          "output_type": "execute_result"
        }
      ],
      "source": [
        "today = date.today()\n",
        "today"
      ]
    },
    {
      "cell_type": "markdown",
      "id": "a531e3e8",
      "metadata": {},
      "source": [
        "Допустимыми являются даты в интервале от 1/1/1 до 31/12/9999. Парсинг дат\n",
        "с преобразованием в строки и наоборот также поддерживается (см. strptime\n",
        "и strftime).\n",
        "\n",
        "Ниже показано применение некоторых полезных методов объекта ```date```:"
      ]
    },
    {
      "cell_type": "code",
      "execution_count": 39,
      "id": "45ced0fd",
      "metadata": {},
      "outputs": [
        {
          "data": {
            "text/plain": [
              "'2004-11-05'"
            ]
          },
          "execution_count": 39,
          "metadata": {},
          "output_type": "execute_result"
        }
      ],
      "source": [
        "birthday.isoformat() # Формат даты по стандарту ISO 8601: YYYY -MM-DD."
      ]
    },
    {
      "cell_type": "code",
      "execution_count": 40,
      "id": "8bc15811",
      "metadata": {},
      "outputs": [
        {
          "data": {
            "text/plain": [
              "4"
            ]
          },
          "execution_count": 40,
          "metadata": {},
          "output_type": "execute_result"
        }
      ],
      "source": [
        " birthday.weekday() # Понедельник = 0, Вторник = 1, ..., Воскресенье = 6."
      ]
    },
    {
      "cell_type": "code",
      "execution_count": 41,
      "id": "ad8ed845",
      "metadata": {},
      "outputs": [
        {
          "data": {
            "text/plain": [
              "5"
            ]
          },
          "execution_count": 41,
          "metadata": {},
          "output_type": "execute_result"
        }
      ],
      "source": [
        "birthday.isoweekday() # Понедельник = 1, Вторник = 2, ..., Воскресенье = 7."
      ]
    },
    {
      "cell_type": "code",
      "execution_count": 42,
      "id": "498834ca",
      "metadata": {},
      "outputs": [
        {
          "data": {
            "text/plain": [
              "'Fri Nov  5 00:00:00 2004'"
            ]
          },
          "execution_count": 42,
          "metadata": {},
          "output_type": "execute_result"
        }
      ],
      "source": [
        "birthday.ctime() # Вывод времени по стандарту C."
      ]
    },
    {
      "cell_type": "markdown",
      "id": "e7fe74a3",
      "metadata": {},
      "source": [
        "Кроме того, объекты ```date``` можно сравнивать (в хронологическом порядке):"
      ]
    },
    {
      "cell_type": "code",
      "execution_count": 43,
      "id": "627ac21d",
      "metadata": {},
      "outputs": [
        {
          "data": {
            "text/plain": [
              "True"
            ]
          },
          "execution_count": 43,
          "metadata": {},
          "output_type": "execute_result"
        }
      ],
      "source": [
        "birthday < today"
      ]
    },
    {
      "cell_type": "code",
      "execution_count": 44,
      "id": "e4e04a7f",
      "metadata": {},
      "outputs": [
        {
          "data": {
            "text/plain": [
              "False"
            ]
          },
          "execution_count": 44,
          "metadata": {},
          "output_type": "execute_result"
        }
      ],
      "source": [
        "today == birthday"
      ]
    },
    {
      "cell_type": "markdown",
      "id": "3a49237b",
      "metadata": {},
      "source": [
        "## Время"
      ]
    },
    {
      "cell_type": "markdown",
      "id": "9f886499",
      "metadata": {},
      "source": [
        "Объект ```datetime.time``` представляет (местное) время суток с  округлением до\n",
        "ближайшей микросекунды. Для создания объекта ```time``` необходимо передать\n",
        "числовые значения часов, минут, секунд и  микросекунд (в  указанном здесь\n",
        "порядке, для пропущенных значений по умолчанию устанавливается нулевое\n",
        "значение)."
      ]
    },
    {
      "cell_type": "code",
      "execution_count": 45,
      "id": "fe4a3e0b",
      "metadata": {},
      "outputs": [
        {
          "data": {
            "text/plain": [
              "datetime.time(13, 30)"
            ]
          },
          "execution_count": 45,
          "metadata": {},
          "output_type": "execute_result"
        }
      ],
      "source": [
        "from datetime import time\n",
        "lunchtime = time(hour=13, minute=30)\n",
        "lunchtime"
      ]
    },
    {
      "cell_type": "code",
      "execution_count": 46,
      "id": "8f875edd",
      "metadata": {},
      "outputs": [
        {
          "data": {
            "text/plain": [
              "'13:30:00'"
            ]
          },
          "execution_count": 46,
          "metadata": {},
          "output_type": "execute_result"
        }
      ],
      "source": [
        "lunchtime.isoformat() # Формат времени по стандарту ISO 8601: HH:MM:SS, если нет мс."
      ]
    },
    {
      "cell_type": "code",
      "execution_count": 48,
      "id": "3445be28",
      "metadata": {},
      "outputs": [
        {
          "data": {
            "text/plain": [
              "'04:46:36.501982'"
            ]
          },
          "execution_count": 48,
          "metadata": {},
          "output_type": "execute_result"
        }
      ],
      "source": [
        "precise_time = time(4,46,36,501982)\n",
        "precise_time.isoformat() # Формат времени по стандарту ISO 8601: HH:MM:SS.mmmmmm"
      ]
    },
    {
      "cell_type": "code",
      "execution_count": 49,
      "id": "b154c1d9",
      "metadata": {},
      "outputs": [
        {
          "ename": "ValueError",
          "evalue": "hour must be in 0..23",
          "output_type": "error",
          "traceback": [
            "\u001b[1;31m---------------------------------------------------------------------------\u001b[0m",
            "\u001b[1;31mValueError\u001b[0m                                Traceback (most recent call last)",
            "Input \u001b[1;32mIn [49]\u001b[0m, in \u001b[0;36m<cell line: 1>\u001b[1;34m()\u001b[0m\n\u001b[1;32m----> 1\u001b[0m witching_hour \u001b[38;5;241m=\u001b[39m \u001b[43mtime\u001b[49m\u001b[43m(\u001b[49m\u001b[38;5;241;43m24\u001b[39;49m\u001b[43m)\u001b[49m\n",
            "\u001b[1;31mValueError\u001b[0m: hour must be in 0..23"
          ]
        }
      ],
      "source": [
        "witching_hour = time(24) # Ошибка: значение часа должно находиться в интервале 0 <="
      ]
    },
    {
      "cell_type": "markdown",
      "id": "824baf03",
      "metadata": {},
      "source": [
        "### Объект datetime"
      ]
    },
    {
      "cell_type": "markdown",
      "id": "51fef22e",
      "metadata": {},
      "source": [
        "Объект ```datetime.datetime``` содержит информацию из обоих объектов ```date```\n",
        "и  ```time```: year, month, day, hour, minute, second, microsecond. Для этого объекта\n",
        "возможна передача значений для всех перечисленных выше атрибутов в конструктор ```datetime```, а также доступны методы ```today``` (возвращает текущую дату)\n",
        "и ```now``` (возвращает текущую дату и время):"
      ]
    },
    {
      "cell_type": "code",
      "execution_count": 50,
      "id": "d2fd3eeb",
      "metadata": {},
      "outputs": [
        {
          "data": {
            "text/plain": [
              "datetime.datetime(2022, 9, 24, 10, 7, 22, 527462)"
            ]
          },
          "execution_count": 50,
          "metadata": {},
          "output_type": "execute_result"
        }
      ],
      "source": [
        "from datetime import datetime # Весьма опасная операция импорта.\n",
        "now = datetime.now()\n",
        "now"
      ]
    },
    {
      "cell_type": "code",
      "execution_count": 51,
      "id": "baeacbfd",
      "metadata": {},
      "outputs": [
        {
          "data": {
            "text/plain": [
              "'2022-09-24T10:07:22.527462'"
            ]
          },
          "execution_count": 51,
          "metadata": {},
          "output_type": "execute_result"
        }
      ],
      "source": [
        "now.isoformat()"
      ]
    },
    {
      "cell_type": "code",
      "execution_count": 52,
      "id": "1596b011",
      "metadata": {},
      "outputs": [
        {
          "data": {
            "text/plain": [
              "'Sat Sep 24 10:07:22 2022'"
            ]
          },
          "execution_count": 52,
          "metadata": {},
          "output_type": "execute_result"
        }
      ],
      "source": [
        "now.ctime()"
      ]
    },
    {
      "cell_type": "markdown",
      "id": "7e1ffdbb",
      "metadata": {},
      "source": [
        "## Форматирование даты и времени"
      ]
    },
    {
      "cell_type": "markdown",
      "id": "5a19ca3c",
      "metadata": {},
      "source": [
        "Объекты ```date```, ```time``` и ```datetime``` поддерживают метод ```strftime``` для вывода своих значений в виде строки, отформатированной в соответствии с настройками синтаксиса с  использованием спецификаторов формата, перечисленных\n",
        "в табл. 7."
      ]
    },
    {
      "cell_type": "markdown",
      "id": "232d5eca",
      "metadata": {},
      "source": [
        "**Таблица 7**. Спецификаторы формата для методов ```strftime``` и ```strptime```. Обратите внимание:\n",
        "многие спецификаторы зависят от локали (например, в системе с немецким языком %A будет\n",
        "генерировать дни недели Sonntag, Montag и т. д.)"
      ]
    },
    {
      "cell_type": "markdown",
      "id": "76c9015d",
      "metadata": {},
      "source": [
        "|Спецификатор|Описание|\n",
        "|:-----------|:-------|\n",
        "|%a|Сокращенное название дня недели (Sun, Mon и т. д.)|\n",
        "|%A|Полное название дня недели (Sunday, Monday и т. д.)|\n",
        "|%w|Номер дня недели (0 = воскресенье, 1 = понедельник, …, 6 = суббота)|\n",
        "|%d|Дополненное нулем число месяца: 01, 02, 03, …, 31|\n",
        "|%b|Сокращенное название месяца (Jan, Feb и т. д.)|\n",
        "|%B|Полное название месяца (January, February и т. д.)|\n",
        "|%m|Дополненный нулем номер месяца: 01, 02, …, 12|\n",
        "|%y|Год без века (из двух цифр, с дополнением нулем): 01, 02, …, 99|\n",
        "|%Y|Год с веком (из четырех цифр, с дополнением нулями): 0001, 0002, …, 9999|\n",
        "|%H|Часы в 24-часовом формате с дополнением нулем: 00, 01, …, 23|\n",
        "|%I|Часы в 12-часовом формате с дополнением нулем: 00, 01, …, 12|\n",
        "|%p|AM или PM (или равнозначные обозначения в конкретной локали)|\n",
        "|%M|Минуты (из двух цифр, с дополнением нулем): 00, 01, …, 59|\n",
        "|%S|Секунды (из двух цифр, с дополнением нулем): 00, 01, …, 59|\n",
        "|%f |Микросекунды (из шести цифр, с дополнением нулем): 000000, 000001, …, 999999|\n",
        "|%%|Знак % как литерал|"
      ]
    },
    {
      "cell_type": "code",
      "execution_count": 53,
      "id": "432add94",
      "metadata": {},
      "outputs": [
        {
          "data": {
            "text/plain": [
              "'Friday, 05 November 2004'"
            ]
          },
          "execution_count": 53,
          "metadata": {},
          "output_type": "execute_result"
        }
      ],
      "source": [
        "birthday.strftime('%A, %d %B %Y')"
      ]
    },
    {
      "cell_type": "code",
      "execution_count": 54,
      "id": "3f8e30d9",
      "metadata": {},
      "outputs": [
        {
          "data": {
            "text/plain": [
              "'10:07:22 on 24/09/22'"
            ]
          },
          "execution_count": 54,
          "metadata": {},
          "output_type": "execute_result"
        }
      ],
      "source": [
        " now.strftime('%I:%M:%S on %d/%m/%y')"
      ]
    },
    {
      "cell_type": "markdown",
      "id": "36f74a76",
      "metadata": {},
      "source": [
        "Для выполнения обратного процесса, т. е. для преобразования строки в объект ```datetime```, применяется метод ```strptime```:"
      ]
    },
    {
      "cell_type": "code",
      "execution_count": 55,
      "id": "74981bba",
      "metadata": {},
      "outputs": [
        {
          "name": "stdout",
          "output_type": "stream",
          "text": [
            "1969-07-16 09:32:00\n"
          ]
        }
      ],
      "source": [
        "launch_time = datetime.strptime('09:32:00 July 16, 1969', '%H:%M:%S %B %d, %Y')\n",
        "print(launch_time)    "
      ]
    },
    {
      "cell_type": "code",
      "execution_count": 56,
      "id": "2205a4b4",
      "metadata": {},
      "outputs": [
        {
          "name": "stdout",
          "output_type": "stream",
          "text": [
            "09:32 AM on Wednesday, 16 Jul 1969\n"
          ]
        }
      ],
      "source": [
        "print(launch_time.strftime('%I:%M %p on %A, %d %b %Y'))"
      ]
    },
    {
      "cell_type": "code",
      "execution_count": null,
      "id": "29ffee17",
      "metadata": {},
      "outputs": [],
      "source": []
    }
  ],
  "metadata": {
    "kernelspec": {
      "display_name": "Python 3 (ipykernel)",
      "language": "python",
      "name": "python3"
    },
    "language_info": {
      "codemirror_mode": {
        "name": "ipython",
        "version": 3
      },
      "file_extension": ".py",
      "mimetype": "text/x-python",
      "name": "python",
      "nbconvert_exporter": "python",
      "pygments_lexer": "ipython3",
      "version": "3.9.12"
    }
  },
  "nbformat": 4,
  "nbformat_minor": 5
}