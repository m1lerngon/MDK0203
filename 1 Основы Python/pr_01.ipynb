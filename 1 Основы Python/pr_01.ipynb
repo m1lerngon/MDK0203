{
  "metadata": {
    "kernelspec": {
      "name": "python",
      "display_name": "Python (Pyodide)",
      "language": "python"
    },
    "language_info": {
      "name": ""
    }
  },
  "nbformat_minor": 4,
  "nbformat": 4,
  "cells": [
    {
      "cell_type": "markdown",
      "source": "Написать программу на Python для нормализации списка чисел ```a```,,\r\n    \"чтобы значения размещались в интервале от 0 до 1. Например, список чисел ```a = [2, 4, 10, 6, 8, 4]``` должен быть преобразован в список ```[0.0, 0.25, 1.0,\\n\",\r\n    \"0.5, 0.75, 0.25]``n\",\r\n    \"Совет: воспользуйтесь встроенными функциями ```min``` и ```max```, возвращающи\\n\",\r\n    \"минимальное и максимальное значения в последовательности соответственно, например ```min(a)``` возвращает 2 из приведенного выше списка чисел.\"",
      "metadata": {}
    },
    {
      "cell_type": "code",
      "source": "import math\n\ndef count_factors(n):\n    count = 0\n    sqrt_n = int(math.sqrt(n))\n    for i in range(1, sqrt_n + 1):\n        if n % i == 0:\n            count += 2  # Учитываем и делитель, и соответствующий ему множитель\n    # Если n - полный квадрат, убираем лишний счетчик\n    if sqrt_n * sqrt_n == n:\n        count -= 1\n    return count\n\ndef find_supercomposite_numbers(limit):\n    supercomposite_numbers = []\n    for n in range(2, limit):\n        if count_factors(n) > count_factors(n - 1):\n            supercomposite_numbers.append(n)\n    return supercomposite_numbers\n\n# Измерение времени выполнения\n%timeit find_supercomposite_numbers(100000)",
      "metadata": {
        "trusted": true
      },
      "outputs": [],
      "execution_count": null
    },
    {
      "cell_type": "markdown",
      "source": "Написать цикл ```while``` для вычисления арифметико-геометрического,\r\n    \"среднего (АГС) двух положительных действительных чисел ```x``` и ```y```, определяемого как предел последовательностей:\"",
      "metadata": {}
    },
    {
      "cell_type": "code",
      "source": "import math\n\ndef arithmetic_geometric_mean(x, y, epsilon=1e-10, max_iterations=1000):\n    a = x\n    b = y\n    \n    iteration = 0\n    while iteration < max_iterations:\n        a_next = 0.5 * (a + b)\n        b_next = math.sqrt(a * b)\n        \n        if abs(a_next - a) < epsilon and abs(b_next - b) < epsilon:\n            return (a_next + b_next) / 2.0\n        \n        a = a_next\n        b = b_next\n        iteration += 1\n\n    raise Exception(\"Не удалось достичь необходимой точности\")\n\n# Вычисление константы Гаусса\nG = 1 / arithmetic_geometric_mean(1, math.sqrt(2))\n\nprint(\"Константа Гаусса G =\", G)",
      "metadata": {
        "trusted": true
      },
      "outputs": [],
      "execution_count": null
    },
    {
      "cell_type": "markdown",
      "source": "В игре Fizzbuzz используется числовой счет, но с заменой чисел, делящихся нацело на 3, словом Fizz, чисел, делящихся нацело на 5, – словом Buzz,\r\n    \"а чисел, делящихся нацело и на 3, и на 5, – словом FizzBuzz. Написать программу, имитирующую эту игру при числовом счете до 100\"",
      "metadata": {}
    },
    {
      "cell_type": "code",
      "source": "for number in range(1, 101):\n    if number % 3 == 0 and number % 5 == 0:\n        print(\"FizzBuzz\")\n    elif number % 3 == 0:\n        print(\"Fizz\")\n    elif number % 5 == 0:\n        print(\"Buzz\")\n    else:\n        print(number)",
      "metadata": {
        "trusted": true
      },
      "outputs": [],
      "execution_count": null
    },
    {
      "cell_type": "markdown",
      "source": "Неразветвленные молекулы алканов – это насыщенные углеводороды\",\r\n    \"с общей стехиометрической формулой ```CnH2n+2```, в которой атомы углерода образуют простую цепочку, например бутан ```C4H10``` описывается структурной формулой, которую можно представить в видеn\",\r\n    \"\\n\",\r\n    \"```H3CCH2 CH2 CH3`\\n\",\r\n  \"\\n\",\r\n    \"Написать программу, выводящую структурную формулу таких алканов с  заданной стехиомеией\\n\",\r\n    \"(предполагается, что n  > 1). Например, при заданной стехиомрии \\n\",\r\n    \"```stoich = 'C8H18'``` должен выводиться результат ```H3C-CH2-CH2-CH2-CH2-CH2-CH2-CH3```.\"",
      "metadata": {}
    },
    {
      "cell_type": "code",
      "source": "def generate_alkane_structure(stoichiometry):\n    if not stoichiometry.startswith('C') or 'H' not in stoichiometry:\n        print(\"Некорректный формат стехиометрии.\")\n        return\n\n    # Разбиваем стехиометрию на количество атомов углерода и водорода\n    carbon_count = int(stoichiometry[1:stoichiometry.index('H')])\n    hydrogen_count = int(stoichiometry[stoichiometry.index('H')+1:])\n\n    # Генерируем структурную формулу алкана\n    structure = 'H3C'\n    for i in range(carbon_count - 1):\n        structure += '-CH2'\n    structure += f'-CH3'\n\n    return structure\n\n# Пример использования\nstoichiometry = 'C8H18'\nresult = generate_alkane_structure(stoichiometry)\nif result:\n    print(result)",
      "metadata": {
        "trusted": true
      },
      "outputs": [],
      "execution_count": null
    },
    {
      "cell_type": "code",
      "source": "",
      "metadata": {
        "trusted": true
      },
      "outputs": [],
      "execution_count": null
    },
    {
      "cell_type": "code",
      "source": "",
      "metadata": {
        "trusted": true
      },
      "outputs": [],
      "execution_count": null
    }
  ]
}