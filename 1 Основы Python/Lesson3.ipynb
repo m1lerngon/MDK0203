{
  "metadata": {
    "kernelspec": {
      "name": "python",
      "display_name": "Python (Pyodide)",
      "language": "python"
    },
    "language_info": {
      "codemirror_mode": {
        "name": "python",
        "version": 3
      },
      "file_extension": ".py",
      "mimetype": "text/x-python",
      "name": "python",
      "nbconvert_exporter": "python",
      "pygments_lexer": "ipython3",
      "version": "3.8"
    }
  },
  "nbformat_minor": 4,
  "nbformat": 4,
  "cells": [
    {
      "cell_type": "markdown",
      "source": "Усовершенствовать алгоритм поиска количества множителей целого\\n\",\r\n    \"числа, следующим образом:\\n\",\r\n    \"а) зациклить проверку пробного множителя i до тех пор, пока он не больше\\n\",\r\n    \"значения квадратного корня из n  (почему нет необходимости проверять\\n\",\r\n    \"значения i, большие значения квадратного корня из n?);\\n\",\r\n    \"б) использовать генератор.\\n\",\r\n    \"Сравнить скорость выполнения двух вариантов решения этой задачи,\\n\",\r\n    \"используя магическую функцию IPython %timeit.\"\r\n   ]",
      "metadata": {}
    },
    {
      "cell_type": "code",
      "source": "import math\ndef count_factors(n):\n    count = 0\n    sqrt_n = int(math.sqrt(n))\n    for i in range(1, sqrt_n + 1):\n        if n % i == 0:\n            count += 2  # Учитываем и делитель, и соответствующий ему множитель\n    # Если n - полный квадрат, убираем лишний счетчик\n    if sqrt_n * sqrt_n == n:\n        count -= 1\n    return count\n\n# Пример использования\nn = 12\nprint(count_factors(n))  # Вывод: 6 (1, 2, 3, 4, 6, 12)\n\n\nimport math\n\ndef count_factors_loop(n):\n    count = 0\n    sqrt_n = int(math.sqrt(n))\n    for i in range(1, sqrt_n + 1):\n        if n % i == 0:\n            count += 2\n    if sqrt_n * sqrt_n == n:\n        count -= 1\n    return count\n\ndef count_factors_generator(n):\n    sqrt_n = int(math.sqrt(n))\n    factors = [(i, n // i) for i in range(1, sqrt_n + 1) if n % i == 0]\n    if sqrt_n * sqrt_n == n:\n        factors.pop()\n    return len(factors) * 2\n\n# Измерение времени выполнения для обоих вариантов\nn = 1000000\n%timeit count_factors_loop(n)\n%timeit count_factors_generator(n)",
      "metadata": {
        "trusted": true
      },
      "outputs": [],
      "execution_count": null
    },
    {
      "cell_type": "markdown",
      "source": "Используя самый быстрый алгоритм из предыдущей задачи,\\n\",\n    \"написать небольшой фрагмент кода для определения сверхсоставных чисел,\\n\",\n    \"меньших 100 000, и использовать секционную магическую функцию %%timeit\\n\",\n    \"для измерения времени выполнения этого кода. Сверхсоставное число – это\\n\",\n    \"положительное целое число, которое имеет больше делителей, чем любое\\n\",\n    \"меньшее положительное целое число, например 1, 2, 4, 6, 12, 24, 36, 48, ….\"\n   ]",
      "metadata": {}
    },
    {
      "cell_type": "code",
      "source": "import math\ndef count_factors(n):\n    count = 0\n    sqrt_n = int(math.sqrt(n))\n    for i in range(1, sqrt_n + 1):\n        if n % i == 0:\n            count += 2  # Учитываем и делитель, и соответствующий ему множитель\n    # Если n - полный квадрат, убираем лишний счетчик\n    if sqrt_n * sqrt_n == n:\n        count -= 1\n    return count\n\ndef find_supercomposite_numbers(limit):\n    supercomposite_numbers = []\n    for n in range(2, limit):\n        if count_factors(n) > count_factors(n - 1):\n            supercomposite_numbers.append(n)\n    return supercomposite_numbers\n\n# Измерение времени выполнения\n%timeit find_supercomposite_numbers(100000)",
      "metadata": {
        "trusted": true
      },
      "outputs": [],
      "execution_count": null
    },
    {
      "cell_type": "code",
      "source": "",
      "metadata": {
        "trusted": true
      },
      "outputs": [],
      "execution_count": null
    },
    {
      "cell_type": "code",
      "source": "",
      "metadata": {
        "trusted": true
      },
      "outputs": [],
      "execution_count": null
    }
  ]
}