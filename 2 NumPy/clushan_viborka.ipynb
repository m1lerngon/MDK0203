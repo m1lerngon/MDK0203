{
  "metadata": {
    "kernelspec": {
      "name": "python",
      "display_name": "Python (Pyodide)",
      "language": "python"
    },
    "language_info": {
      "name": ""
    }
  },
  "nbformat_minor": 4,
  "nbformat": 4,
  "cells": [
    {
      "cell_type": "markdown",
      "source": "Задание 1. Объяснить различие между кодом",
      "metadata": {}
    },
    {
      "cell_type": "markdown",
      "source": "a = np.array([6, 6, 6, 7, 7, 7, 7, 7, 7])",
      "metadata": {}
    },
    {
      "cell_type": "markdown",
      "source": "a[np.random.randint(len(a), size=5)] \nи кодом",
      "metadata": {}
    },
    {
      "cell_type": "markdown",
      "source": "np.random.randint(6, 8, 5)",
      "metadata": {}
    },
    {
      "cell_type": "markdown",
      "source": "Различие между этими двумя кодовыми фрагментами заключается в том, как они создают случайные выборки из массива.\nВ первом коде  мы сначала создаем массив ,затем мы используем функцию,  чтобы сгенерировать пять случайных индексов из диапазона от 0 до длины массива `a`. Затем мы используем эти случайные индексы для выбора соответствующих элементов из массива `a`. Таким образом, результат будет случайной выборкой из массива `a` размером 5.\nВо втором коде `np.random.randint(6, 8, 5)`, мы используем функцию `np.random.randint(6, 8, 5)`, чтобы сгенерировать пять случайных чисел из диапазона от 6 до 8 (включительно). Таким образом, результат будет массивом из пяти случайных чисел в диапазоне от 6 до 8.\nТаким образом, основное различие заключается в том, что первый код делает случайную выборку из заданного массива, а второй код генерирует случайные числа в заданном диапазоне.\n",
      "metadata": {}
    },
    {
      "cell_type": "markdown",
      "source": "Задание 2. В примере 2 использовался метод np.random.random_integers для выборки из равномерного распределения по числам с плавающей точкой [1/2, 3/2, 5/2, 7/2]. Как можно сделать то же самое, воспользовавшись методом np.random.randint?",
      "metadata": {}
    },
    {
      "cell_type": "code",
      "source": "import numpy as np\n\n# Задаем параметры для генерации случайных чисел\nlow = 1  # Минимальное значение (включительно)\nhigh = 4  # Максимальное значение (исключительно)\nsize = 5  # Количество чисел\n\n# Генерируем случайные целые числа из диапазона [low, high) с помощью np.random.randint\nrandom_integers = np.random.randint(low, high, size)\n\n# Преобразуем целые числа в числа с плавающей точкой, разделив их на 2.0\nrandom_floats = random_integers / 2.0\n\nprint(random_floats)",
      "metadata": {
        "trusted": true
      },
      "outputs": [],
      "execution_count": null
    },
    {
      "cell_type": "markdown",
      "source": "Задание 3. Американская лотерея Mega Millions во время написания этой книги использовала выбор 5 чисел из 70 и одного из 25. Джекпот распределяется между игроками, выбравшими номера, совпадающие со случайно выбранными. Какова вероятность выиграть джекпот? Написать однострочный код Python, используя библиотеку NumPy, для выбора набора случайных чисел для игрока.",
      "metadata": {}
    },
    {
      "cell_type": "code",
      "source": "import numpy as np\n\n# Выбираем 5 случайных чисел из диапазона 1-70 (включительно)\nnumbers_1_to_70 = np.random.choice(np.arange(1, 71), size=5, replace=False)\n\n# Выбираем 1 случайное число из диапазона 1-25 (включительно)\nnumber_1_to_25 = np.random.choice(np.arange(1, 26), size=1)\n\n# Выводим результат\nprint(\"Выбранные числа из 70:\", numbers_1_to_70)\nprint(\"Выбранное число из 25:\", number_1_to_25)",
      "metadata": {
        "trusted": true
      },
      "outputs": [],
      "execution_count": null
    },
    {
      "cell_type": "code",
      "source": "",
      "metadata": {
        "trusted": true
      },
      "outputs": [],
      "execution_count": null
    }
  ]
}