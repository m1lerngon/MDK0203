{
  "metadata": {
    "kernelspec": {
      "name": "python",
      "display_name": "Python (Pyodide)",
      "language": "python"
    },
    "language_info": {
      "name": ""
    }
  },
  "nbformat_minor": 4,
  "nbformat": 4,
  "cells": [
    {
      "cell_type": "markdown",
      "source": "Сравнить скорость выполнения алгоритма np.fft.fft из библиотеки NumPy и непосредственной (собственной) реализации формулы",
      "metadata": {}
    },
    {
      "cell_type": "code",
      "source": "import numpy as np\n\n# Генерируем случайные данные\nn = 1024  # Размер массива\ndata = np.random.random(n)\n%timeit np.fft.fft(data)\n# Создаем массив с элементами exp(-2*pi*i*m*k/n)\nm, k = np.meshgrid(np.arange(n), np.arange(n))\nexponents = np.exp(-2j * np.pi * m * k / n)\n\n# Вычисляем F_m с использованием скалярного произведения\nF_m = np.dot(data, exponents)\n%timeit np.dot(data, exponents)",
      "metadata": {
        "trusted": true
      },
      "outputs": [],
      "execution_count": null
    },
    {
      "cell_type": "code",
      "source": "",
      "metadata": {
        "trusted": true
      },
      "outputs": [],
      "execution_count": null
    }
  ]
}