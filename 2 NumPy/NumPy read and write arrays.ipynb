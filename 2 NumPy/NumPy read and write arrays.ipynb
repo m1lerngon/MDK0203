{
  "metadata": {
    "kernelspec": {
      "name": "python",
      "display_name": "Python (Pyodide)",
      "language": "python"
    },
    "language_info": {
      "codemirror_mode": {
        "name": "ipython",
        "version": 3
      },
      "file_extension": ".py",
      "mimetype": "text/x-python",
      "name": "python",
      "nbconvert_exporter": "python",
      "pygments_lexer": "ipython3",
      "version": "3.9.12"
    }
  },
  "nbformat_minor": 5,
  "nbformat": 4,
  "cells": [
    {
      "id": "66864dc4",
      "cell_type": "markdown",
      "source": "# Чтение и запись массива в файл",
      "metadata": {}
    },
    {
      "id": "d1f58cba",
      "cell_type": "markdown",
      "source": "Научные данные часто считываются из текстового файла, который может содержать комментарии, пропущенные значения и пустые строки. Столбцы значений могут быть выровнены в соответствии с форматом полей фиксированной ширины либо отделены друг от друга одним или несколькими символами-разделителями (такими как пробелы, табуляции или запятые). Кроме того, в файле\nможет содержаться описательный заголовок и даже сноски-примечания, которые затрудняют парсинг при использовании только строковых методов Python.\n\nБиблиотека NumPy предоставляет несколько функций для считывания данных из текстового файла. Самый простой метод ```np.loadtxt``` обрабатывает множество общих вариантов, а более интеллектуальный метод ```np.genfromtxt``` обеспечивает улучшенную обработку пропущенных значений и сносок. Эти и другие методы описаны в следующих разделах.",
      "metadata": {}
    },
    {
      "id": "8d0d1e47",
      "cell_type": "markdown",
      "source": "## Методы np.save и np.load",
      "metadata": {}
    },
    {
      "id": "79ff6318",
      "cell_type": "markdown",
      "source": "Существует независимый от платформы бинарный формат для сохранения\nмассива NumPy:",
      "metadata": {}
    },
    {
      "id": "aaa0a99b",
      "cell_type": "raw",
      "source": " np.save('my-array.npy', a)",
      "metadata": {}
    },
    {
      "id": "b71f9506",
      "cell_type": "markdown",
      "source": "Массив ```a``` сохраняется в бинарном файле my-array.npy (расширение .npy добавляется, если оно не задано явно). Затем массив можно снова загрузить с помощью NumPy в любой другой операционной системе командой",
      "metadata": {}
    },
    {
      "id": "a9339b6a",
      "cell_type": "raw",
      "source": "a = np.load('my-array.npy')",
      "metadata": {}
    },
    {
      "id": "cb0f4c05",
      "cell_type": "markdown",
      "source": "В этом случае обязательно должно быть указано расширение .npy.",
      "metadata": {}
    },
    {
      "id": "59796e88",
      "cell_type": "markdown",
      "source": "## Метод np.loadtxt",
      "metadata": {}
    },
    {
      "id": "95062753",
      "cell_type": "markdown",
      "source": "Прототип этого метода:",
      "metadata": {}
    },
    {
      "id": "8b9fa3bb",
      "cell_type": "markdown",
      "source": "```python\nnp.loadtxt(fname, dtype=<class 'float'>, comments='#',delimiter=None, converters=None,skiprows=0, usecols=None, unpack=False, ndmin=0)\n```\n\nНиже приводится описание аргументов:\n\n- *fname*  – единственный обязательный аргумент, который может быть именем файла, указателем на открытый файл или генератором, возвращающим строки данных для обработки (парсинга)\n\n- *dtype* тип данных массива, по умолчанию float, но его можно явно установить в этом аргументе dtype. По существу, именно здесь устанавливаются значения имен и типов данных для структурированного массива;\n\n- *comments* – комментарии в файле обычно начинаются с некоторого символа, как, например, # (в исходном коде Python) или %. Чтобы библиотека NumPy игнорировала содержимое всех строк, начинающихся с  такого символа, используется аргумент comments, для которого по умолчанию задано значение #;\n\n- *delimiter*  – строка, используемая для разделения столбцов данных в файле. По умолчанию задано значение None, означающее, что любое количество пробельных символов (пробелов, табуляций) разделяет данные. Для считывания файлов в формате csv (данные, разделенные запятыми) необходимо установить delimiter=',';\n\n- *converters*  – необязательный словарь, отображающий индекс столбца в функцию, преобразующую строковые значения из этого столбца в данные (например, типа float);\n\n- *skiprows* – целое число, определяющее количество пропускаемых строк в начале файла, прежде чем начать считывание данных (например, для пропуска строк заголовка). По умолчанию равно 0 (заголовка нет);\n\n- *usecols* – последовательность индексов столбцов, определяющая, какие столбцы из файла должны возвращаться как данные. По умолчанию задано значение None, означающее, что все столбцы должны быть обработаны и возвращены;\n\n- *unpack* – по умолчанию таблица данных возвращается в одном массиве из строк и столбцов, отображающих структуру считываемого файла. При установке unpack=True этот массив будет преобразован (транспонирован) так, чтобы можно было выбирать отдельные столбцы и присваивать их различным переменным;\n\n- *ndmin* – минимальное количество измерений, которое должен иметь возвращаемый массив. По умолчанию задано значение 0 (так что файл, содержащий единственное число, считывается как скалярное значение). Можно установить значение 1 или 2.\n\nНапример, для считывания первого, третьего и четвертого столбцов из файла *data.txt* в три отдельных одномерных массива выполняется следующая инструкция:\n\n```python\ncol1 , col3 , col4 = np.loadtxt('data.txt', usecols=(0, 2, 3), unpack=True)\n```\n",
      "metadata": {}
    },
    {
      "id": "efe770c2",
      "cell_type": "markdown",
      "source": "---",
      "metadata": {}
    },
    {
      "id": "209925ea",
      "cell_type": "markdown",
      "source": "**Пример 1**. Использование метода ```np.lodtxt``` лучше всего продемонстрировать\nна примере. Рассмотрим следующий текстовый файл с данными, относящимися к некоторой (вымышленной) группе студентов. Эти данные содержатся в файле ```eg6-astudent-data.txt```, который можно скачать в ресурсах.",
      "metadata": {}
    },
    {
      "id": "29db57ce",
      "cell_type": "markdown",
      "source": "```txt\n# Student data collected on 17 July 2014.\n# Researcher: Dr Wicks, University College Newbury.\n# The following data relate to N = 20 students. It\n# has been totally made up and so therefore is 100%\n# anonymous.\nSubject Sex DOB Height Weight BP VO2max\n(ID) M/F dd/mm/yy m kg mmHg mL.kg-1.min-1\nJW-1 M 19/12/95 1.82 92.4 119/76 39.3\nJW-2 M 11/1/96 1.77 80.9 114/73 35.5\nJW-3 F 2/10/95 1.68 69.7 124/79 29.1\nJW-6 M 6/7/95 1.72 75.5 110/60 45.5\n# JW-7 F 28/3/96 1.66 72.4 101/68 -\nJW-9 F 11/12/95 1.78 82.1 115/75 32.3\nJW-10 F 7/4/96 1.60 - -/- 30.1\nJW-11 M 22/8/95 1.72 77.2 97/63 48.8\nJW-12 M 23/5/96 1.83 88.9 105/70 37.7\nJW-14 F 12/1/96 1.56 56.3 108/72 26.0\nJW-15 F 1/6/96 1.64 65.0 99/67 35.7\nJW-16 M 10/9/95 1.63 73.0 131/84 29.9\nJW-17 M 17/2/96 1.67 89.8 101/76 40.2\nJW-18 M 31/7/96 1.66 75.1 -/- -\nJW-19 F 30/10/95 1.59 67.3 103/69 33.5\nJW-22 F 9/3/96 1.70 - 119/80 30.9\nJW-23 M 15/5/95 1.97 89.2 124/82 -\nJW-24 F 1/12/95 1.66 63.8 100/78 -\nJW-25 F 25/10/95 1.63 64.4 -/- 28.0\nJW-26 M 17/4/96 1.69 - 121/82 39.\n```\n\nВычислим по отдельности средний рост студентов мужскогои женского пола.\nДля этого необходимы второй и четвертый столбцы, в них нет пропущенных\nданных, поэтому можно использовать метод ```np.loadtxt```. Сначала сформируем\nзапись ```dtype``` для этих двух полей, затем прочитаем соответствующие столбцы\nпосле пропуска первых девяти строк заголовка:",
      "metadata": {}
    },
    {
      "id": "08070370",
      "cell_type": "code",
      "source": "import numpy as np\nfname = 'eg6-a-student-data.txt'",
      "metadata": {},
      "outputs": [],
      "execution_count": 5
    },
    {
      "id": "8c19dab6",
      "cell_type": "code",
      "source": "dtype1 = np.dtype([('gender', '|S1'), ('height', 'f8')])",
      "metadata": {},
      "outputs": [],
      "execution_count": 6
    },
    {
      "id": "6e8ac1a3",
      "cell_type": "code",
      "source": "a = np.loadtxt(fname, dtype=dtype1, skiprows=9, usecols=(1,3))",
      "metadata": {},
      "outputs": [],
      "execution_count": 7
    },
    {
      "id": "d20537ec",
      "cell_type": "code",
      "source": "a",
      "metadata": {},
      "outputs": [
        {
          "data": {
            "text/plain": [
              "array([(b'M', 1.82), (b'M', 1.77), (b'F', 1.68), (b'M', 1.72),\n",
              "       (b'F', 1.78), (b'F', 1.6 ), (b'M', 1.72), (b'M', 1.83),\n",
              "       (b'F', 1.56), (b'F', 1.64), (b'M', 1.63), (b'M', 1.67),\n",
              "       (b'M', 1.66), (b'F', 1.59), (b'F', 1.7 ), (b'M', 1.97),\n",
              "       (b'F', 1.66), (b'F', 1.63), (b'M', 1.69)],\n",
              "      dtype=[('gender', 'S1'), ('height', '<f8')])"
            ]
          },
          "execution_count": 8,
          "metadata": {},
          "output_type": "execute_result"
        }
      ],
      "execution_count": 8
    },
    {
      "id": "e17b6e6e",
      "cell_type": "markdown",
      "source": "Для вычисления среднего роста студентов мужского пола требуется индекс\nтолько тех записей, в которых поле gender содержит значение ```M```. Для этой цели\nможно создать массив логических значений:",
      "metadata": {}
    },
    {
      "id": "8383b4b2",
      "cell_type": "code",
      "source": "m = a['gender'] == b'M'",
      "metadata": {},
      "outputs": [],
      "execution_count": 9
    },
    {
      "id": "12db90c8",
      "cell_type": "code",
      "source": "m",
      "metadata": {},
      "outputs": [
        {
          "data": {
            "text/plain": [
              "array([ True,  True, False,  True, False, False,  True,  True, False,\n",
              "       False,  True,  True,  True, False, False,  True, False, False,\n",
              "        True])"
            ]
          },
          "execution_count": 10,
          "metadata": {},
          "output_type": "execute_result"
        }
      ],
      "execution_count": 10
    },
    {
      "id": "dceadc88",
      "cell_type": "markdown",
      "source": "В массиве ```m``` содержатся элементы ```True``` или ```False``` для каждой из 19 корректных записей (одна запись закомментирована), соответствующие мужскому\nили женскому полу студента. Поэтому значения роста студентов мужского\nпола могут выглядеть так:",
      "metadata": {}
    },
    {
      "id": "62a6edf0",
      "cell_type": "code",
      "source": "print(a['height'][m])",
      "metadata": {},
      "outputs": [
        {
          "name": "stdout",
          "output_type": "stream",
          "text": [
            "[1.82 1.77 1.72 1.72 1.83 1.63 1.67 1.66 1.97 1.69]\n"
          ]
        }
      ],
      "execution_count": 11
    },
    {
      "id": "7ba07328",
      "cell_type": "markdown",
      "source": "Для вычисления средних значений роста необходимо выполнить следующие инструкции:",
      "metadata": {}
    },
    {
      "id": "cfc6d428",
      "cell_type": "code",
      "source": "m_av = a['height'][m].mean()",
      "metadata": {},
      "outputs": [],
      "execution_count": 12
    },
    {
      "id": "163cbca3",
      "cell_type": "code",
      "source": "f_av = a['height'][~m].mean()",
      "metadata": {},
      "outputs": [],
      "execution_count": 13
    },
    {
      "id": "26800acd",
      "cell_type": "code",
      "source": "print('Male average: {:.2f} m, Female average: {:.2f} m'.format(m_av, f_av))",
      "metadata": {},
      "outputs": [
        {
          "name": "stdout",
          "output_type": "stream",
          "text": [
            "Male average: 1.75 m, Female average: 1.65 m\n"
          ]
        }
      ],
      "execution_count": 14
    },
    {
      "id": "f8a7462b",
      "cell_type": "markdown",
      "source": "    Обратите внимание: выражение ~m («не m») инвертирует (меняет на противоположные) логические значения в массиве m.",
      "metadata": {}
    },
    {
      "id": "bbe90848",
      "cell_type": "markdown",
      "source": "Для выполнения аналогичных аналитических операций с весами студентов\nнеобходимо проделать немного больше работы, потому что некоторые значения пропущены (обозначены символом дефиса «-»). Можно было бы воспользоваться методом ```np.genfromtxt```, но вместо этого мы напишем метод преобразования. Будем заменять пропущенные значения абсолютно бессмысленным с физической точки зрения значением −99. Функция ```parse_weight``` ожидает строковый аргумент и возвращает значение типа ```float```:",
      "metadata": {}
    },
    {
      "id": "459438de",
      "cell_type": "code",
      "source": "def parse_weight(s):\n    try:\n        return float(s)\n    except ValueError:\n        return -99.",
      "metadata": {},
      "outputs": [],
      "execution_count": 15
    },
    {
      "id": "668bf80f",
      "cell_type": "markdown",
      "source": "Это функция, которую необходимо передать как метод преобразования для\nстолбца 4:",
      "metadata": {}
    },
    {
      "id": "b8d4cce2",
      "cell_type": "code",
      "source": " dtype2 = np.dtype([('gender', '|S1'), ('weight', 'f8')])",
      "metadata": {},
      "outputs": [],
      "execution_count": 16
    },
    {
      "id": "6b76a01b",
      "cell_type": "code",
      "source": "b = np.loadtxt(fname, dtype=dtype2, skiprows=9, usecols=(1, 4),converters={4: parse_weight})",
      "metadata": {},
      "outputs": [],
      "execution_count": 17
    },
    {
      "id": "25300977",
      "cell_type": "markdown",
      "source": "Теперь необходимо маскировать некорректные данные и  проиндексировать обрабатываемый массив с  помощью массива логических значений, как это делалось ранее:",
      "metadata": {}
    },
    {
      "id": "2a3c4b01",
      "cell_type": "code",
      "source": "mv = b['weight'] > 0 # Только элементы с индексом True - корректные данные.",
      "metadata": {},
      "outputs": [],
      "execution_count": 18
    },
    {
      "id": "8c8a2eea",
      "cell_type": "code",
      "source": "m_wav = b['weight'][mv & m].mean() # Корректный элемент, пол мужской.",
      "metadata": {},
      "outputs": [],
      "execution_count": 19
    },
    {
      "id": "c9a7ba7a",
      "cell_type": "code",
      "source": "f_wav = b['weight'][mv & ~m].mean() # Корректный элемент, пол женский.",
      "metadata": {},
      "outputs": [],
      "execution_count": 20
    },
    {
      "id": "e72fa0bd",
      "cell_type": "code",
      "source": "print('Male average: {:.2f} kg, Female average: {:.2f} kg'.format(m_wav, f_wav))",
      "metadata": {},
      "outputs": [
        {
          "name": "stdout",
          "output_type": "stream",
          "text": [
            "Male average: 82.44 kg, Female average: 66.94 kg\n"
          ]
        }
      ],
      "execution_count": 21
    },
    {
      "id": "5f398529",
      "cell_type": "markdown",
      "source": "Теперь считываем данные о  кровяном давлении. Здесь возникает проблема, так как значения систолического и диастолического давления разделены не пробелом, а символом слеша (/). Один вариант решения этой проблемы – переформатирование каждой строки для замены слеша на пробел до передачи записей в метод ```np.loadtxt```. Напомню, что ```fname``` может быть генератором, а не только именем файла или ссылкой на открытый файл: напишем соответствующую функцию генератора ```reformat_lines```, которая принимает объект открытого файла ```file``` и после описанной выше замены передает строки (поочередно, по одной) этого файла в метод ```np.loadtxt```. Это приведет к нарушению нумерации столбцов из-за побочного эффекта при разделении дат рождения на три столбца, поэтому в переформатированных строках значения кровяного давления теперь в столбцах с индексами 7 и 8.",
      "metadata": {}
    },
    {
      "id": "90a645fe",
      "cell_type": "markdown",
      "source": "---",
      "metadata": {}
    },
    {
      "id": "5e3c18c6",
      "cell_type": "markdown",
      "source": "**Листинг 1**. Считывание столбца значений кровяного давления",
      "metadata": {}
    },
    {
      "id": "51b7b3c0",
      "cell_type": "code",
      "source": "# eg6-a-read-bp.py\nimport numpy as np\nfname = 'eg6-a-student-data.txt'\ndtype3 = np.dtype([('gender', '|S1'), ('bps', 'f8'), ('bpd', 'f8')])\n\ndef parse_bp(s):\n    try:\n        return float(s)\n    except ValueError:\n        return -99.\n\ndef reformat_lines(fi):\n    for line in fi:\n        line = line.replace('/', ' ')\n        yield line\n    with open(fname) as fi:\n        gender, bps, bpd = np.loadtxt(reformat_lines(fi), dtype3 , skiprows=9,usecols=(1, 7, 8),converters={7: parse_bp , 8: parse_bp},unpack=True)\n# Теперь необходимо как-то обработать эти данные.",
      "metadata": {},
      "outputs": [],
      "execution_count": 24
    },
    {
      "id": "b384ad5e",
      "cell_type": "markdown",
      "source": "## Метод np.genfromtxt",
      "metadata": {}
    },
    {
      "id": "37626415",
      "cell_type": "markdown",
      "source": "Метод NumPy ```genfromtxt``` похож на метод ```np.loadtxt```, но принимает немного\nбольше аргументов и  способен справляться с  проблемой пропущенных элементов данных.",
      "metadata": {}
    },
    {
      "id": "730b317a",
      "cell_type": "markdown",
      "source": "Перечисленные ниже аргументы совпадают с  аргументами для метода\n```np.loadtxt```: fname (единственный обязательный аргумент), dtype, comments,\nconverters, usecols и unpack.",
      "metadata": {}
    },
    {
      "id": "e8d607fb",
      "cell_type": "markdown",
      "source": "### Заголовки и примечания",
      "metadata": {}
    },
    {
      "id": "f269677e",
      "cell_type": "markdown",
      "source": "Вместо аргумента ```skiprows``` метода ```np.loadtxt``` для метода ```np.genfromtxt```\nсуществуют два необязательных аргумента ```skip_header``` и ```skip_footer```, в которых определяется количество пропускаемых строк в начале и в конце файла соответственно.",
      "metadata": {}
    },
    {
      "id": "ff765d71",
      "cell_type": "markdown",
      "source": "### Поля фиксированной ширины",
      "metadata": {}
    },
    {
      "id": "9fb2ea33",
      "cell_type": "markdown",
      "source": "Аргумент ```delimiter``` работает так же, как для метода ```np.loadtxt```, но может быть задан еще в виде последовательности целых чисел, определяющих значения ширины для каждого считываемого поля, если между столбцами данных нет разделителей. Например, предположим, что приведенный ниже текстовый файл *data.txt*\nдолжен интерпретироваться как состоящий из четырех столбцов с размерами 2, 1,\n9 и 3 символа (для наглядности пробелы обозначены специальным символом «⌴»):",
      "metadata": {}
    },
    {
      "id": "610ad740",
      "cell_type": "markdown",
      "source": "```\n⌴12⌴⌴100.231.03\n⌴11⌴1201.842.04\n⌴11⌴⌴⌴99.324.02\n```",
      "metadata": {}
    },
    {
      "id": "9c1c4fbd",
      "cell_type": "markdown",
      "source": "Следовательно, первая строка должна быть разделена так: ' 1', '2', '100.231', '.03'. Здесь нет символов-разделителей, поэтому подобное разделение невозможно выполнить с помощью ```np.loadtxt```, только с применением метода ```np.genfromtxt```:",
      "metadata": {}
    },
    {
      "id": "67058ae2",
      "cell_type": "raw",
      "source": "np.genfromtxt(fname='data.txt', delimiter=[2, 1, 9, 3],dtype='i4, i4, f8, f8')",
      "metadata": {}
    },
    {
      "id": "465f618f",
      "cell_type": "markdown",
      "source": "### Пропущенные данные",
      "metadata": {}
    },
    {
      "id": "93b8c181",
      "cell_type": "markdown",
      "source": "Если набор данных неполон, то метод ```np.loadtxt``` неспособен выполнить парсинг полей с пропущенными данными и преобразовать их в корректные значения для итогового массива  – будет сгенерировано исключение. Но метод ```np.genfromtxt``` устанавливает пропущенные или некорректные элементы равными значениям по умолчанию, приведенным в таблице 1.",
      "metadata": {}
    },
    {
      "id": "8f7b2538",
      "cell_type": "markdown",
      "source": "**Таблица 1**. Значения по умолчанию для заполнения пропущенных полей данных, используемые методом ```np.genfromtxt```",
      "metadata": {}
    },
    {
      "id": "c99589a8",
      "cell_type": "markdown",
      "source": "|Тип данных|Значение по умолчанию|\n|:---------|:--------------------|\n|int|-1|\n|float|np.nan|\n|bool|False|\n|complex|np.nan + 0.j|",
      "metadata": {}
    },
    {
      "id": "30645f6d",
      "cell_type": "markdown",
      "source": "Например, в  файле с  данными, разделенными запятыми, существует два\nспособа обозначения пропущенных данных: пустые поля и элементы «???»:",
      "metadata": {}
    },
    {
      "id": "fcdb7275",
      "cell_type": "markdown",
      "source": "```\n10.1,4,-0.1,2\n10.2,4,,0\n10.3,???,,4\n10.4,2,0.,\n10.5,-1,???,3\n```",
      "metadata": {}
    },
    {
      "id": "6716a99f",
      "cell_type": "markdown",
      "source": "В этом случае метод ```np.genfromtxt``` устанавливает для пропущенных полей\nзначения по умолчанию:",
      "metadata": {}
    },
    {
      "id": "bf1388af",
      "cell_type": "raw",
      "source": "data = np.genfromtxt(fname='data.txt', dtype='f8, i4, f8, i4',...: delimiter=',')",
      "metadata": {}
    },
    {
      "id": "2f9f0f0a",
      "cell_type": "raw",
      "source": "print(data)",
      "metadata": {}
    },
    {
      "id": "3b847f47",
      "cell_type": "markdown",
      "source": "```\n[(10.1, 4, -0.1, 2) (10.2, 4, nan, 0) (10.3, -1, nan, 4) (10.4, 2, 0.0, -1)\n (10.5, -1, nan, 3)]\n```",
      "metadata": {}
    },
    {
      "id": "d14853e0",
      "cell_type": "markdown",
      "source": "Аргументы ```missing_values``` и ```filling_values``` позволяют более точно управлять значениями по умолчанию, которые должны использоваться в  каждом столбце. Если аргумент ```missing_values``` определен как последовательность строк, то каждая строка связывается с соответствующим по порядку столбцом в файле данных. Если аргумент ```missing_values``` задан как словарь строковых значений, то ключи обозначают либо индексы столбцов (если это целые числа), либо имена столбцов (если это строки). Соответствующий аргумент ```filling_values``` отображает эти индексы или имена столбцов в значения по умолчанию. Если аргумент ```filling_values``` задан как единственное значение, то оно используется для пропущенных данных во всех столбцах.\n\nНапример, для замены некорректных значений (обозначенных как «???») в столбце 1 на 999, пропущенных или некорректных значений (также обозначенных как «???») в столбце 2 на −99 и пропущенных значений в столбце 3 на 0 выполняется следующая инструкция:",
      "metadata": {}
    },
    {
      "id": "1524d97f",
      "cell_type": "raw",
      "source": " data =np.genfromtxt(fname='data.txt', dtype='f8, i4, f8, i4',...: delimiter=',', missing_values={1: '???', 2: '???'},...: filling_values={1: 999, 2: -99., 3: 0})",
      "metadata": {}
    },
    {
      "id": "fb6306c6",
      "cell_type": "raw",
      "source": "print(data)",
      "metadata": {}
    },
    {
      "id": "a4af10a7",
      "cell_type": "markdown",
      "source": "```\n[(10.1, 4, -0.1, 2) (10.2, 4, -99.0, 0) (10.3, 999, -99.0, 4)\n (10.4, 2, 0.0, 0) (10.5, -1, -99.0, 3)]\n```",
      "metadata": {}
    },
    {
      "id": "5af1a9bf",
      "cell_type": "markdown",
      "source": "Следует особо отметить, что пропущенные элементы во втором столбце были заменены на 999 вместо значения по умолчанию −1 – это весьма важно, если −1 является допустимым значением для данного столбца (но при этом необходим дополнительный код для распознавания и обработки специальных значений, таких как 999).",
      "metadata": {}
    },
    {
      "id": "03dcdc9b",
      "cell_type": "markdown",
      "source": "### Имена столбцов",
      "metadata": {}
    },
    {
      "id": "6eed977c",
      "cell_type": "markdown",
      "source": "Аргумент names предоставляет способ определения имен для столбцов считываемых данных. Если для этого аргумента задано значение ```True```, то имена считываются из первой корректной строки после пропуска строк, количество которых определено аргументом ```skip_header```. Если аргумент names представлен строкой имен, разделенных запятыми, или последовательностью строк, то эти строки используются как имена столбцов. По умолчанию для аргумента ```names``` задано значение ```None```, а имена полей берутся из аргумента ```dtype```, если они определены",
      "metadata": {}
    },
    {
      "id": "c1657b43",
      "cell_type": "markdown",
      "source": "**Пример  2**. В  эксперименте по исследованию эффекта Струпа (психология)\nв группе студентов замерялось время чтения 25 названий цветов, расположенных\nв случайном порядке, сначала написанных черным цветом, затем цветами, не соответствующими названию цвета (например, слово «красный» было написано синим\nцветом). Результаты представлены в текстовом файле stroop.txt, который можно скачать здесь: https://scipython.com/eg/baj. Пропущенные данные обозначены символом X.\n\n```\nSubject Number, Gender, Time (words in black), Time (words in color)\n1,F,18.72,31.11\n2,F,21.14,52.47\n3,F,19.38,33.92\n4,M,22.03,50.57\n5,M,21.41,29.63\n6,M,15.18,24.86\n7,F,14.13,33.63\n8,F,19.91,42.39\n9,F,X,43.60\n10,F,26.56,42.31\n11,F,19.73,49.36\n12,M,18.47,31.67\n13,M,21.38,47.28\n14,M,26.05,45.07\n15,F,X,X\n16,F,15.77,38.36\n17,F,15.38,33.07\n18,M,17.06,37.94\n19,M,19.53,X\n20,M,23.29,49.60\n21,M,21.30,45.56\n22,M,17.12,42.99\n23,F,21.85,51.40\n24,M,18.15,36.95\n25,M,33.21,61.59\n```\n\nМожно прочитать эти данные с помощью метода np.genfromtxt и обработать результаты эксперимента, используя код в листинге 2.",
      "metadata": {}
    },
    {
      "id": "a1ffd92a",
      "cell_type": "markdown",
      "source": "---",
      "metadata": {}
    },
    {
      "id": "465311d4",
      "cell_type": "markdown",
      "source": "**Листинг 2**. Анализ данных, полученных в ходе эксперимента по изучению эффекта Струпа",
      "metadata": {}
    },
    {
      "id": "5b7acdbf",
      "cell_type": "code",
      "source": "# eg6-stroop.py\nimport numpy as np\n# Считывание данных из файла stroop.txt, определение пропущенных значений и\n# замена их на значение NaN.\ndata = np.genfromtxt('stroop.txt', skip_header=1,dtype=[('student', 'u8'), ('gender', 'S1'),('black', 'f8'), ('color', 'f8')],delimiter=',',missing_values='X')\nnwords = 25\n# Удаление некорректных строк из набора данных.\nfiltered_data = data[np.isfinite(data['black']) & np.isfinite(data['color'])]\n# Извлечение строк по полям пола (M/F) и цвету слова (black/color) и нормализация\n# по времени, затраченному на прочтение слова.\nfb = filtered_data['black'][filtered_data['gender']==b'F'] / nwords\nmb = filtered_data['black'][filtered_data['gender']==b'M'] / nwords\nfc = filtered_data['color'][filtered_data['gender']==b'F'] / nwords\nmc = filtered_data['color'][filtered_data['gender']==b'M'] / nwords\n# Итоговая статистика: среднее значение и стандартное отклонение по полу и цвету слова.\nmu_fb , sig_fb = np.mean(fb), np.std(fb)\nmu_fc , sig_fc = np.mean(fc), np.std(fc)\nmu_mb , sig_mb = np.mean(mb), np.std(mb)\nmu_mc , sig_mc = np.mean(mc), np.std(mc)\nprint('Mean and (standard deviation) times per word (sec)')\nprint('gender | black | color | difference')\nprint(' F | {:4.3f} ({:4.3f}) | {:4.3f} ({:4.3f}) | {:4.3f}'\n .format(mu_fb, sig_fb, mu_fc, sig_fc, mu_fc - mu_fb))\nprint(' M | {:4.3f} ({:4.3f}) | {:4.3f} ({:4.3f}) | {:4.3f}'\n .format(mu_mb, sig_mb, mu_mc, sig_mc, mu_mc - mu_mb))",
      "metadata": {},
      "outputs": [
        {
          "name": "stdout",
          "output_type": "stream",
          "text": [
            "Mean and (standard deviation) times per word (sec)\n",
            "gender | black | color | difference\n",
            " F | 0.770 (0.137) | 1.632 (0.306) | 0.862\n",
            " M | 0.849 (0.186) | 1.679 (0.394) | 0.830\n"
          ]
        }
      ],
      "execution_count": 28
    },
    {
      "id": "96b0c0d0",
      "cell_type": "markdown",
      "source": "При отсутствии каких-либо значений, определяемых аргументом ```filling_values```, метод ```np.genfromtxt``` будет заменять некорректные поля значением ```np.nan```.",
      "metadata": {}
    },
    {
      "id": "819cebcc",
      "cell_type": "markdown",
      "source": "Необходимо рассмотреть только тех студентов, для которых замерено\nвремя в обеих частях эксперимента, поэтому здесь создается отфильтрованный набор данных.",
      "metadata": {}
    },
    {
      "id": "6191a8c7",
      "cell_type": "markdown",
      "source": "Выводимый результат показывает существенное замедление скорости чтения слов, написанных другим цветом, по сравнению со скоростью чтения слов, написанных черным цветом:",
      "metadata": {}
    },
    {
      "id": "a8a7f44d",
      "cell_type": "markdown",
      "source": "## Метод np.savetxt",
      "metadata": {}
    },
    {
      "id": "c0e70b23",
      "cell_type": "markdown",
      "source": "Метод ```np.savetxt``` сохраняет массив NumPy как текстовый файл. Его сигнатура\nприведена ниже:\n\n```python\nnp.savetxt(fname , X, fmt='%.18e', delimiter=' ',newline='\\n', header='', footer='', comments='# ')\n```\nОписание аргументов:\n\n- *fname* – имя файла или ссылка (дескриптор) на открытый файл, в который будут сохраняться данные массива;\n\n- *X* – имя сохраняемого массива;\n\n- *fmt* – строка, определяющая спецификаторы формата в стиле языка C, при выводе данных массива. По умолчанию это строка '%.18e';\n\n- *delimiter* – строка, разделяющая столбцы в файле вывода; по умолчанию – один пробел;\n\n- *newline* – строка, разделяющая строки в  файле вывода; по умолчанию используется Unix-стиль '\\n'. Пользователи Windows могут предпочесть установку для newline последовательности символов, применяемую на их платформе: '\\r\\n';\n\n- *header* – строка (возможно, несколько строк), которая должна быть записана в начале файла вывода;\n\n- *footer* – строка (возможно, несколько строк), которая должна быть записана в конце файла вывода;\n\n- *comments* – строка, которая должна добавляться в строки header и footer, чтобы пометить их как комментарии. По умолчанию это строка '# '. Это удобно,если файл в дальнейшем будет считываться методами np.loadtxt или np.genfromtxt, а  при использовании комментариев не  требуется явно определять количество строк заголовка и примечания.",
      "metadata": {}
    },
    {
      "id": "3ae3012a",
      "cell_type": "markdown",
      "source": "**Пример 3**.Период распада группы радиоактивных ядер можно имитировать\nследующим образом. Рассмотрим отрезок времени, разделенный на короткие дискретные интервалы продолжительностью Δt ≪ τ, где τ – полное время распада (которое относится ко времени полураспада t 1/2 как τ = t1/2/ln 2). Вероятность того, что рассматриваемое ядро распадется за время Δt, равна p = Δt/τ.\n\nНа каждом временно́м шаге этой имитации выполняется цикл по ядрам, не  распавшимся на предыдущем шаге, и  произвольным образом выбирается случайное число из равномерного распределения [0, 1): если это случайное число меньше p, то считается, что ядро распалось.\n\nКод в листинге 3 определяет функцию для выполнения описанной выше имитации для набора из N0 = 500 ядер радиоактивного углерода 14C с периодом полураспада t1/2 = 5730 лет. Выполняется nsims = 10 симуляций, и результаты сохраняются в файле с разделением данных запятыми 14C-sim.csv с кратким описательным заголовком.",
      "metadata": {}
    },
    {
      "id": "4573796b",
      "cell_type": "markdown",
      "source": "**Листинг 3**. Имитация радиоактивного распада ядер 14C",
      "metadata": {}
    },
    {
      "id": "7f799597",
      "cell_type": "code",
      "source": "import random\nimport numpy as np\n\ndef decay_sim(thalf , N0=500, tgrid=None , nhalflives=4):\n    \"\"\"Simulate the radioactive decay of N0 nuclei.\n     thalf is the half -life in some units of time.\n     If tgrid is provided , it should be a sequence of evenly -spaced time points\n     to run the simulation on.\n     If tgrid is None , it is calculated from nhalflives , the number of\n     half -lives to run the simulation for.\n    \"\"\"\n    # \"\"\"Имитация радиоактивного распада N0 ядер.\n    #\n    # thalf - период полураспада в некоторых единицах времени.\n    # Если задано значение tgrid, то оно должно быть последовательностью равномерно\n    # распределенных точек времени для выполнения имитации.\n    # Если tgrid содержит значение None, то оно вычисляется по nhalflives, числу,\n    # соответствующему периоду полураспада, для выполнения имитации.\n    #\n    # \"\"\"\n    # Вычисление периода распада по периоду полураспада.\n    tau = thalf / np.log(2)\n    if tgrid is None:\n    # Создание сетки из Nt точек времени до значения tmax.\n        Nt, tmax = 100, thalf * nhalflives\n        tgrid, dt = np.linspace(0, tmax, Nt, retstep=True)\n    else:\n        # tgrid задан: вывод Nt и шаг времени dt.\n        Nt = len(tgrid)\n        dt = tgrid[1] - tgrid[0]\n    N = np.empty(Nt, dtype=int)\n    N[0] = N0\n    # Вероятность того, что заданное ядро распадется за время dt.\n    p = dt / tau\n    for i in range(1, Nt):\n        # На каждом шаге времени начинаем обработку нераспавшихся ядер,\n        # оставшихся с предыдущего шага.\n        N[i] = N[i-1]\n        # Поочередно рассматриваем каждое ядро и решаем, распадается оно или нет.\n        for j in range(N[i-1]):\n            r = random.random()\n            if r < p:\n                # Это ядро распадается.\n                N[i] -= 1\n    return tgrid, N\n\nN0 = 500\n# Период полураспада углерода 14C в годах.\nthalf = 5730\n# Использование Nt шагов времени до значений tmax в годах.\nNt, tmax = 100, 20000\ntgrid = np.linspace(0, tmax , Nt)\n# Повторение имитации \"эксперимента\" nsims раз.\nnsims = 10\nNsim = np.empty((Nt, nsims))\nfor i in range(nsims):\n    _, Nsim[:, i] = decay_sim(thalf , N0, tgrid)\n    # Сохранение временной сетки, за которой следуют результаты имитации в столбцах.\n    # Сохраняются целые значения для данных, и создается файл с данными, разделенными\n    # запятыми, с двухстрочным заголовком.\n\nnp.savetxt('14C-sim.csv', np.hstack((tgrid[:, None], Nsim)),\nfmt = '%d', delimiter=',',\nheader=f'Simulations of the radioactive decay of {N0} 14C nuclei.\\n'\nf'Columns are time in years followed by {nsims} decay simulations.')\n",
      "metadata": {},
      "outputs": [],
      "execution_count": 30
    },
    {
      "id": "e6f869cf",
      "cell_type": "markdown",
      "source": "Файл вывода 14C-sim.csv будет содержать приблизительно такие данные:\n\n```\n# Simulations of the radioactive decay of 500 14C nuclei.\n# (Имитации радиоактивного распада 500 ядер 14C.)\n# Columns are time in years followed by 10 decays.\n# (В столбцах указано время в годах, далее - данные о 10 имитациях распада.)\n0,500,500,500,500,500,500,500,500,500,500\n202,489,486,487,491,487,486,485,487,490,490\n404,479,478,483,479,477,476,480,474,484,482\n606,462,467,470,463,464,463,470,454,474,471\n...\n```",
      "metadata": {}
    },
    {
      "id": "238253a1",
      "cell_type": "markdown",
      "source": "Этот файл можно считать в массив NumPy следующей инструкцией:",
      "metadata": {}
    },
    {
      "id": "88abee5d",
      "cell_type": "code",
      "source": "arr = np.loadtxt('14C-sim.csv', delimiter=',')",
      "metadata": {},
      "outputs": [],
      "execution_count": 31
    },
    {
      "id": "9b62bf4d",
      "cell_type": "markdown",
      "source": "# Упражнения",
      "metadata": {}
    },
    {
      "id": "7f75fb7b",
      "cell_type": "markdown",
      "source": "## Задачи",
      "metadata": {}
    },
    {
      "id": "23be8f19",
      "cell_type": "markdown",
      "source": "**Задача 1**. В следующем текстовом файле *ex6-2-b-mountain-data.txt* содержатся данные о вершинах-восьмитысячниках в алфавитном порядке.\n\n```\nex6-2-b-mountain-data.txt This file contains a list of the 14\nhighest mountains in the world with their names, height, year\nof first ascent, year of first winter ascent, and location as\nlongitude and latitude in degrees (d), minutes (m) and seconds\n(s). Note: as of 2019, no winter ascent has been made of K2.\n\n--------------------------------------------------------------------\nName Height First ascent First winter Location\n m date ascent date (WGS84)\n--------------------------------------------------------------------\nAnnapurna I 8091 3/6/1950 3/2/1987 28d35m46sN 83d49m13sE\nBroad Peak 8051 9/6/1957 5/3/2013 35d48m39sN 76d34m06sE\nCho Oyu 8201 19/10/1954 12/2/1985 28d05m39sN 86d39m39sE\nDhaulagiri I 8167 13/5/1960 21/1/1985 27d59m17sN 86d55m31sE\nEverest 8848 29/5/1953 17/2/1980 27d59m17sN 86d55m31sE\nGasherbrum I 8080 5/7/1958 9/3/2012 35d43m28sN 76d41m47sE\nGasherbrum II 8034 7/7/1956 2/2/2011 35d45m30sN 76d39m12sE\nK2 8611 31/7/1954 - 35d52m57sN 76d30m48sE\nKangchenjunga 8568 25/5/1955 11/1/1986 27d42m09sN 88d08m54sE\nLhotse 8516 18/5/1956 31/12/1988 27d57m42sN 86d56m00sE\nMakalu 8485 15/5/1955 9/2/2009 27d53m21sN 87d05m19sE\nManaslu 8163 9/5/1956 12/1/1984 28d33m0sN 84d33m35sE\nNanga Parbat 8126 3/7/1953 16/2/2016 35d14m15sN 74d35m21sE\nShishapangma 8027 2/5/1964 14/1/2005 28d21m8sN 85d46m47sE\n--------------------------------------------------------------------\n```\n\nИспользовать метод NumPy ```genfromtxt``` для считывания этих данных в соответствующий структурированный массив для определения следующих фактов:\nа)\t самая низкая вершина-восьмитысячник;\nб)\t самая северная, восточная, южная и западная вершина;\nв)\t самое позднее первое восхождение на вершину;\nг)\t первая вершина, на которую было совершено восхождение зимой.\nТакже создать другой структурированный массив, содержащий список вершин с указанием их высоты в футах и даты первого восхождения с упорядочением по возрастанию высоты.",
      "metadata": {}
    },
    {
      "id": "73402800",
      "cell_type": "markdown",
      "source": "**Задача 2**. Файл *busiest_airports.txt*, предоставляет подробную информацию о 30 самых загруженных аэропортах в мире в 2014 г. Поля, разделенные табуляциями: трехбуквенный код IATA, название аэропорта, место расположения аэропорта, широта\nи долгота (оба значения в градусах).\n\n```\nFRA\tFrankfurt Airport\tFrankfurt, Hesse, Germany\t50.026\t8.543\nDEN\tDenver International Airport\tDenver, Colorado, United States\t39.862\t-104.673\nBKK\tSuvarnabhumi Airport\tBang Phli, Samut Prakan, Thailand\t13.681\t100.747\nSYD\tSydney Kingsford-Smith Airport\tSydney, New South Wales, Australia\t-33.946\t151.177\nGRU\tSao Paulo-Guarulhos International Airport\tGuarulhos, Sao Paulo, Brazil\t-23.432\t-46.470\nCLT\tCharlotte Douglas International Airport\tCharlotte, North Carolina, United States\t35.214\t-80.943\nSFO\tSan Francisco International Airport\tSan Mateo County, California, United States\t37.619\t-122.375\nIAH\tGeorge Bush Intercontinental Airport\tHouston, Texas, United States\t29.984\t-95.341\nATL\tHartsfield-Jackson Atlanta International Airport\tAtlanta, Georgia, United States\t33.637\t-84.428\nICN\tSeoul Incheon International Airport\tIncheon, Republic of Korea\t37.469\t126.451\nDFW\tDallas-Fort Worth International Airport\tDallas-Fort Worth, Texas, United States\t32.897\t-97.038\nHND\tTokyo Haneda Airport\tOta, Tokyo, Japan\t35.552\t139.780\nLAS\tMcCarran International Airport\tLas Vegas, Nevada, United States\t36.080\t-115.152\nPHX\tPhoenix Sky Harbor International Airport\tPhoenix, Arizona, United States\t33.434\t-112.012\nPVG\tShanghai Pudong International Airport\tPudong, Shanghai, China\t31.143\t121.805\nDXB\tDubai International Airport\tGarhoud, Dubai, United Arab Emirates\t25.253\t55.364\nMIA\tMiami International Airport\tMiami-Dade County, Florida, United States\t25.793\t-80.291\nIST\tIstanbul Ataturk Airport\tIstanbul, Turkey\t40.977\t28.815\nAMS\tAmsterdam Airport Schiphol\tHaarlemmermeer, North Holland, Netherlands\t52.309\t4.764\nCAN\tGuangzhou Baiyun International Airport\tHuadu, Guangzhou, Guangdong, China\t23.392\t113.299\nLAX\tLos Angeles International Airport\tLos Angeles, California, United States\t33.943\t-118.408\nCGK\tSoekarno-Hatta International Airport\tCengkareng, Banten, Indonesia\t-6.126\t106.656\nLHR\tLondon Heathrow Airport\tHillingdon, London, United Kingdom\t51.477\t-0.461\nJFK\tJohn F. Kennedy International Airport\tQueens, New York City, New York, United States\t40.640\t-73.779\nSIN\tSingapore Changi Airport\tChangi, Singapore\t1.350\t103.994\nCDG\tCharles de Gaulle Airport\tRoissy-en-France, Ile-de-France, France\t49.013\t2.550\nHKG\tHong Kong International Airport\tChek Lap Kok, Hong Kong, China\t22.309\t113.915\nORD\tO'Hare International Airport\tChicago, Illinois, United States\t41.979\t-87.905\nKUL\tKuala Lumpur International Airport\tSepang, Selangor, Malaysia\t2.746\t101.710\nPEK\tBeijing Capital International Airport\tChaoyang, Beijing, China\t40.080\t116.585\n```\n\n\n\nНаписать программу для определения расстояния между двумя аэропортами, определяемыми по их трехбуквенному коду IATA, с использованием формулы гаверсинуса и с предположением о том, что радиус сферической поверхности Земли равен 6378.1 км.",
      "metadata": {}
    },
    {
      "id": "b9462571",
      "cell_type": "markdown",
      "source": "**Задача 3**. Всемирный банк предоставляет обширную совокупность наборов данных по широкому диапазону «индикаторов», которые можно найти здесь:\nhttps://data.worldbank.org/. Наборы данных, относящиеся к показателям детской\nвакцинации против туберкулеза (BCG),полиомиелита (Pol3) и кори в трех странах Юго-Восточной Азии с  1960 по  2013  г., доступны здесь: *wb-data.dat*. Поля разделены точками с запятой, а пропущенные данные обозначены как '..'.\n\nИспользовать методы NumPy для считывания этих данных и создания трех\nграфиков (по каждой вакцине отдельно) и сравнитьпоказатели (коэффициенты)\nвакцинации в этих трех странах.\n",
      "metadata": {}
    },
    {
      "id": "c1ad0c06",
      "cell_type": "code",
      "source": "",
      "metadata": {},
      "outputs": [],
      "execution_count": null
    }
  ]
}