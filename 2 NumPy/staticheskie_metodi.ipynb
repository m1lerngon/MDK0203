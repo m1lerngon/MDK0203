{
  "metadata": {
    "kernelspec": {
      "name": "python",
      "display_name": "Python (Pyodide)",
      "language": "python"
    },
    "language_info": {
      "name": ""
    }
  },
  "nbformat_minor": 4,
  "nbformat": 4,
  "cells": [
    {
      "cell_type": "markdown",
      "source": "Задача 1. В некоторой лотерее участвуют игроки, выбирающие шесть чисел без замены из интервала [1, 49]. Джекпот разделяется между игроками, угадавшими все шесть чисел («выпавших лотерейных шаров»), выбранных случайным образом в розыгрыше, который проводится каждые две недели (порядок угаданных чисел не имеет значения). Если ни один из игроков не угадал каждое выпавшее число, то джекпот считается неразыгранным и добавляется к джекпоту следующего розыгрыша. Несмотря на то что эта лотерея честная в том смысле, что каждая комбинация случайно выбираемых чисел является равновероятной, было сделано следующее наблюдение: многие игроки отдают предпочтение выбору определенных чисел, например представляющих даты (т.е. большинство выбираемых чисел находится в интервале [1, 31], как будто эти числа ожидаются в большей степени, чем выбираемые случайно). Поэтому, чтобы избежать дележа джекпота, следовательно, получить максимальный выигрыш в одиночку, имеет смысл не использовать эти числа.\r\n\r\nПроверить это предположение, установив, существует ли какая-либо связь (корреляция) между количеством шаров со значениями меньше 13 (представляющих номер месяца) и выигрышами джекпота одним человеком. Не учитывать розыгрыши, которые приводили к увеличению джекпота (т.е. без выигравших текущий джекпот). Необходимые данные lottery-draws.txt можно скачать в ресурса\nх.",
      "metadata": {}
    },
    {
      "cell_type": "code",
      "source": "import numpy as np\n\n# Считываем данные из файла\ndata = np.genfromtxt('lottery-draws.txt', delimiter=' ', skip_header=1, usecols=(1, 2, 3, 4, 5, 6))\n\n# Функция для определения, выиграл ли кто-то джекпот (выбрал все 6 чисел)\ndef has_jackpot(row):\n    return np.sum(row < 13) == 0\n\n# Фильтруем только розыгрыши, которые не привели к увеличению джекпота\nfiltered_data = data[data[:, 0] == 0]\n\n# Определяем, выиграл ли кто-то джекпот в каждом розыгрыше\njackpot_wins = np.array([has_jackpot(row) for row in filtered_data])\n\n# Количество шаров с номерами меньше 13 в каждом розыгрыше\nballs_less_than_13 = np.sum(filtered_data[:, 1:] < 13, axis=1)\n\n# Вычисляем корреляцию между количеством таких шаров и выигрышами джекпота\ncorrelation = np.corrcoef(balls_less_than_13, jackpot_wins)[0, 1]\n\nprint(\"Корреляция между количеством шаров с номерами меньше 13 и выигрышами джекпота:\", correlation)",
      "metadata": {
        "trusted": true
      },
      "outputs": [],
      "execution_count": null
    },
    {
      "cell_type": "markdown",
      "source": "Задача 2. В этом разделе мы видели, как создать графическое изображение гистограммы из массива с помощью метода pyplot.hist, но предположим, что массивы hist и bins уже созданы с использованием метода np.histogram и необходимо построить итоговую гистограмму по этим массивам. Невозможно воспользоваться pyplot.hist, потому что эта функция ожидает для обработки массив исходных данных. Необходимо использовать pyplot.bar для создания изображения по массиву hist в виде столбиковой диаграммы (bar chart, собственно, это и есть гистограмма).",
      "metadata": {}
    },
    {
      "cell_type": "code",
      "source": "import matplotlib.pyplot as plt\n\n# Ваши массивы hist и bins\nhist = [10, 20, 30, 40, 50]  # Пример данных\nbins = [0, 10, 20, 30, 40, 50]  # Пример интервалов\n\n# Создаем графическое изображение гистограммы с помощью pyplot.bar\nplt.bar(bins[:-1], hist, width=np.diff(bins), align='edge')\n\n# Настройка меток и заголовка\nplt.xlabel('Интервалы')\nplt.ylabel('Частота')\nplt.title('Гистограмма')\n\n# Отображаем график\nplt.show()",
      "metadata": {
        "trusted": true
      },
      "outputs": [],
      "execution_count": null
    },
    {
      "cell_type": "markdown",
      "source": "Задача 3 Значения роста в сантиметрах в выборке из 1000 взрослых мужчин и 1000 взрослых женщин из определенной совокупности собраны в файлах данных ex6-3-f-male-heights.txt и ex6-3-f-female-heights.txt, доступных в ресурсах. Прочитать эти данные и вычислить среднее значение и стандартное отклонение по каждому полу. Создать гистограммы для этих двух наборов данных с использованием наиболее подходящего интервала и показать их графически на одном изображении. Решить эту же задачу в единицах британской системы (в футах и дюймах).",
      "metadata": {}
    },
    {
      "cell_type": "code",
      "source": "import numpy as np\nimport matplotlib.pyplot as plt\nimport pylab\n\nfsample = np.loadtxt('ex6-3-f-female-heights.txt').flatten()\nmsample = np.loadtxt('ex6-3-f-male-heights.txt').flatten()\nheights = np.zeros((1000,), dtype={'names': ['female', 'male'],\n                                   'formats': ['f8', 'f8']})\nheights['female'] = np.loadtxt('ex6-3-f-female-heights.txt').flatten()\nheights['male'] = np.loadtxt('ex6-3-f-male-heights.txt').flatten()\nfav, fstd = heights['female'].mean(), heights['female'].std()\nmav, mstd = heights['male'].mean(), heights['male'].std()\nall_heights_view = heights.view((('f8', 2))).flatten()\nbins = np.linspace(135, 210, 16)\nmhist, _, _ = pylab.hist(heights['male'], bins, color='b')\nfhist, _, _ = pylab.hist(heights['female'], bins, alpha=0.75, color='m')\nprint('Height (cm)  Female  Male')\nprint('-'*27)\nfor b, f, m in np.vstack((bins[:-1], fhist, mhist)).T:\n    print('  {:d}-{:d}     {:3d}    {:3d}'.format(int(b), int(b)+5,\n                                                   int(f), int(m)))\nprint('-'*27)\nprint('Mean (cm):   {:5.1f}  {:5.1f}'.format(fav, mav))\nprint(' Std (cm):   {:5.1f}  {:5.1f}'.format(fstd, mstd))\nprint('-'*27)",
      "metadata": {
        "trusted": true
      },
      "outputs": [],
      "execution_count": null
    },
    {
      "cell_type": "code",
      "source": "",
      "metadata": {
        "trusted": true
      },
      "outputs": [],
      "execution_count": null
    },
    {
      "cell_type": "code",
      "source": "",
      "metadata": {
        "trusted": true
      },
      "outputs": [],
      "execution_count": null
    }
  ]
}